{
 "cells": [
  {
   "cell_type": "code",
   "execution_count": 89,
   "id": "893fffae",
   "metadata": {},
   "outputs": [],
   "source": [
    "import cv2 as cv\n",
    "import numpy as np\n",
    "import os\n",
    "from matplotlib import pyplot as plt\n",
    "import time\n",
    "import mediapipe as mp"
   ]
  },
  {
   "cell_type": "code",
   "execution_count": 21,
   "id": "3b5ba9d5",
   "metadata": {},
   "outputs": [],
   "source": [
    "mp_pose = mp.solutions.pose\n",
    "mp_drawing = mp.solutions.drawing_utils"
   ]
  },
  {
   "cell_type": "code",
   "execution_count": 35,
   "id": "6f700755",
   "metadata": {},
   "outputs": [],
   "source": [
    "main_dir = 'C:\\\\Users\\\\nguye\\\\PycharmProjects\\\\DPL302\\\\Pose recognition'"
   ]
  },
  {
   "cell_type": "code",
   "execution_count": 38,
   "id": "4535169e",
   "metadata": {},
   "outputs": [],
   "source": [
    "label = 'Yoga'\n",
    "labels_path = os.path.join(main_dir,'dataset',label)\n",
    "labels = os.listdir(labels_path)"
   ]
  },
  {
   "cell_type": "code",
   "execution_count": 43,
   "id": "e393fd72",
   "metadata": {},
   "outputs": [
    {
     "name": "stdout",
     "output_type": "stream",
     "text": [
      "['adho mukha svanasana' 'adho mukha vriksasana' 'agnistambhasana'\n",
      " 'ananda balasana' 'anantasana' 'anjaneyasana' 'ardha bhekasana'\n",
      " 'ardha chandrasana' 'ardha matsyendrasana' 'ardha pincha mayurasana'\n",
      " 'ardha uttanasana' 'ashtanga namaskara' 'astavakrasana' 'baddha konasana'\n",
      " 'bakasana' 'balasana' 'bhairavasana' 'bharadvajasana i' 'bhekasana'\n",
      " 'bhujangasana' 'bhujapidasana' 'bitilasana' 'camatkarasana'\n",
      " 'chakravakasana' 'chaturanga dandasana' 'dandasana' 'dhanurasana'\n",
      " 'durvasasana' 'dwi pada viparita dandasana' 'eka pada koundinyanasana i'\n",
      " 'eka pada koundinyanasana ii' 'eka pada rajakapotasana'\n",
      " 'eka pada rajakapotasana ii' 'ganda bherundasana' 'garbha pindasana'\n",
      " 'garudasana' 'gomukhasana' 'halasana' 'hanumanasana' 'janu sirsasana'\n",
      " 'kapotasana' 'krounchasana' 'kurmasana' 'lolasana'\n",
      " 'makara adho mukha svanasana' 'makarasana' 'malasana' 'marichyasana i'\n",
      " 'marichyasana iii' 'marjaryasana' 'matsyasana' 'mayurasana'\n",
      " 'natarajasana' 'padangusthasana' 'padmasana' 'parighasana'\n",
      " 'paripurna navasana' 'parivrtta janu sirsasana'\n",
      " 'parivrtta parsvakonasana' 'parivrtta trikonasana' 'parsva bakasana'\n",
      " 'parsvottanasana' 'pasasana' 'paschimottanasana' 'phalakasana'\n",
      " 'pincha mayurasana' 'prasarita padottanasana' 'purvottanasana'\n",
      " 'salabhasana' 'salamba bhujangasana' 'salamba sarvangasana'\n",
      " 'salamba sirsasana' 'savasana' 'setu bandha sarvangasana' 'simhasana'\n",
      " 'sukhasana' 'supta baddha konasana' 'supta matsyendrasana'\n",
      " 'supta padangusthasana' 'supta virasana' 'tadasana' 'tittibhasana'\n",
      " 'tolasana' 'tulasana' 'upavistha konasana' 'urdhva dhanurasana'\n",
      " 'urdhva hastasana' 'urdhva mukha svanasana'\n",
      " 'urdhva prasarita eka padasana' 'ustrasana' 'utkatasana'\n",
      " 'uttana shishosana' 'uttanasana' 'utthita ashwa sanchalanasana'\n",
      " 'utthita hasta padangustasana' 'utthita parsvakonasana'\n",
      " 'utthita trikonasana' 'vajrasana' 'vasisthasana' 'viparita karani'\n",
      " 'virabhadrasana i' 'virabhadrasana ii' 'virabhadrasana iii' 'virasana'\n",
      " 'vriksasana' 'vrischikasana' 'yoganidrasana']\n"
     ]
    }
   ],
   "source": [
    "poses = np.array(labels)\n",
    "print(poses)"
   ]
  },
  {
   "cell_type": "code",
   "execution_count": 27,
   "id": "a64b7425",
   "metadata": {},
   "outputs": [],
   "source": [
    "cap = cv.VideoCapture(0)\n",
    "with mp_pose.Pose(min_detection_confidence=0.5, min_tracking_confidence=0.5) as pose:\n",
    "    while cap.isOpened():\n",
    "        ret, frame = cap.read()\n",
    "\n",
    "        frame.flags.writeable = False\n",
    "        frame = cv.cvtColor(frame, cv.COLOR_BGR2RGB) \n",
    "        results = pose.process(frame)\n",
    "        frame.flags.writeable = True\n",
    "        frame = cv.cvtColor(frame, cv.COLOR_RGB2BGR)\n",
    "        \n",
    "        mp_drawing.draw_landmarks(frame, results.pose_landmarks, mp_pose.POSE_CONNECTIONS)\n",
    "\n",
    "        cv.imshow('OpenCV Feed', cv.flip(frame,1))\n",
    "\n",
    "        if cv.waitKey(10) & 0xFF == ord('q'):\n",
    "            break\n",
    "            \n",
    "    cap.release()\n",
    "    cv2.destroyAllWindows()"
   ]
  },
  {
   "cell_type": "code",
   "execution_count": 141,
   "id": "be5d9853",
   "metadata": {},
   "outputs": [],
   "source": [
    "for pose_action in poses:\n",
    "    try: \n",
    "        os.makedirs(os.path.join(main_dir, 'keypoints',pose_action))\n",
    "    except:\n",
    "        pass"
   ]
  },
  {
   "cell_type": "code",
   "execution_count": 142,
   "id": "6956a6a8",
   "metadata": {
    "scrolled": true
   },
   "outputs": [],
   "source": [
    "img_no = 0\n",
    "with mp_pose.Pose(static_image_mode = True, min_detection_confidence=0.5) as pose:\n",
    "    for pose_actions in poses:\n",
    "        current_pose = pose_actions\n",
    "        pose_path = os.path.join(main_dir,'dataset', label, pose_actions)\n",
    "        pose_actions = np.array(os.listdir(pose_path))\n",
    "        img_no = 0\n",
    "        for img in pose_actions:\n",
    "            img_path = os.path.join(main_dir,'dataset', label, current_pose, img)\n",
    "            frame = cv.imread(img_path)\n",
    "            \n",
    "            try:\n",
    "                frame.flags.writeable = False\n",
    "                frame = cv.cvtColor(frame, cv.COLOR_BGR2RGB)\n",
    "                results = pose.process(frame)\n",
    "                frame.flags.writeable = True\n",
    "                frame = cv.cvtColor(frame, cv.COLOR_RGB2BGR)\n",
    "            except:\n",
    "                print('Error while extracting ', img, 'of', current_pose)\n",
    "                img_no += 1\n",
    "                pass\n",
    "            \n",
    "            keypoints = np.array([[result.x, result.y, result.z, result.visibility] for result in results.pose_landmarks.landmark]).flatten() if results.pose_landmarks else np.zeros(33*4)\n",
    "            \n",
    "            kp_path = os.path.join(main_dir, 'keypoints', current_pose, str(img_no))\n",
    "            np.save(kp_path, keypoints)\n",
    "            img_no += 1\n",
    "                \n",
    "            cv.imshow('Reading', frame)\n",
    "            cv.waitKey(100)\n",
    "\n",
    "\n",
    "cv.destroyAllWindows()"
   ]
  },
  {
   "cell_type": "code",
   "execution_count": 144,
   "id": "1b8423b1",
   "metadata": {},
   "outputs": [],
   "source": [
    "from sklearn.model_selection import train_test_split\n",
    "from tensorflow.keras.utils import to_categorical"
   ]
  },
  {
   "cell_type": "code",
   "execution_count": 145,
   "id": "cf158a90",
   "metadata": {},
   "outputs": [],
   "source": [
    "label_map = {label:num for num, label in enumerate(poses)}"
   ]
  },
  {
   "cell_type": "code",
   "execution_count": 146,
   "id": "2b0120e1",
   "metadata": {},
   "outputs": [
    {
     "data": {
      "text/plain": [
       "{'adho mukha svanasana': 0,\n",
       " 'adho mukha vriksasana': 1,\n",
       " 'agnistambhasana': 2,\n",
       " 'ananda balasana': 3,\n",
       " 'anantasana': 4,\n",
       " 'anjaneyasana': 5,\n",
       " 'ardha bhekasana': 6,\n",
       " 'ardha chandrasana': 7,\n",
       " 'ardha matsyendrasana': 8,\n",
       " 'ardha pincha mayurasana': 9,\n",
       " 'ardha uttanasana': 10,\n",
       " 'ashtanga namaskara': 11,\n",
       " 'astavakrasana': 12,\n",
       " 'baddha konasana': 13,\n",
       " 'bakasana': 14,\n",
       " 'balasana': 15,\n",
       " 'bhairavasana': 16,\n",
       " 'bharadvajasana i': 17,\n",
       " 'bhekasana': 18,\n",
       " 'bhujangasana': 19,\n",
       " 'bhujapidasana': 20,\n",
       " 'bitilasana': 21,\n",
       " 'camatkarasana': 22,\n",
       " 'chakravakasana': 23,\n",
       " 'chaturanga dandasana': 24,\n",
       " 'dandasana': 25,\n",
       " 'dhanurasana': 26,\n",
       " 'durvasasana': 27,\n",
       " 'dwi pada viparita dandasana': 28,\n",
       " 'eka pada koundinyanasana i': 29,\n",
       " 'eka pada koundinyanasana ii': 30,\n",
       " 'eka pada rajakapotasana': 31,\n",
       " 'eka pada rajakapotasana ii': 32,\n",
       " 'ganda bherundasana': 33,\n",
       " 'garbha pindasana': 34,\n",
       " 'garudasana': 35,\n",
       " 'gomukhasana': 36,\n",
       " 'halasana': 37,\n",
       " 'hanumanasana': 38,\n",
       " 'janu sirsasana': 39,\n",
       " 'kapotasana': 40,\n",
       " 'krounchasana': 41,\n",
       " 'kurmasana': 42,\n",
       " 'lolasana': 43,\n",
       " 'makara adho mukha svanasana': 44,\n",
       " 'makarasana': 45,\n",
       " 'malasana': 46,\n",
       " 'marichyasana i': 47,\n",
       " 'marichyasana iii': 48,\n",
       " 'marjaryasana': 49,\n",
       " 'matsyasana': 50,\n",
       " 'mayurasana': 51,\n",
       " 'natarajasana': 52,\n",
       " 'padangusthasana': 53,\n",
       " 'padmasana': 54,\n",
       " 'parighasana': 55,\n",
       " 'paripurna navasana': 56,\n",
       " 'parivrtta janu sirsasana': 57,\n",
       " 'parivrtta parsvakonasana': 58,\n",
       " 'parivrtta trikonasana': 59,\n",
       " 'parsva bakasana': 60,\n",
       " 'parsvottanasana': 61,\n",
       " 'pasasana': 62,\n",
       " 'paschimottanasana': 63,\n",
       " 'phalakasana': 64,\n",
       " 'pincha mayurasana': 65,\n",
       " 'prasarita padottanasana': 66,\n",
       " 'purvottanasana': 67,\n",
       " 'salabhasana': 68,\n",
       " 'salamba bhujangasana': 69,\n",
       " 'salamba sarvangasana': 70,\n",
       " 'salamba sirsasana': 71,\n",
       " 'savasana': 72,\n",
       " 'setu bandha sarvangasana': 73,\n",
       " 'simhasana': 74,\n",
       " 'sukhasana': 75,\n",
       " 'supta baddha konasana': 76,\n",
       " 'supta matsyendrasana': 77,\n",
       " 'supta padangusthasana': 78,\n",
       " 'supta virasana': 79,\n",
       " 'tadasana': 80,\n",
       " 'tittibhasana': 81,\n",
       " 'tolasana': 82,\n",
       " 'tulasana': 83,\n",
       " 'upavistha konasana': 84,\n",
       " 'urdhva dhanurasana': 85,\n",
       " 'urdhva hastasana': 86,\n",
       " 'urdhva mukha svanasana': 87,\n",
       " 'urdhva prasarita eka padasana': 88,\n",
       " 'ustrasana': 89,\n",
       " 'utkatasana': 90,\n",
       " 'uttana shishosana': 91,\n",
       " 'uttanasana': 92,\n",
       " 'utthita ashwa sanchalanasana': 93,\n",
       " 'utthita hasta padangustasana': 94,\n",
       " 'utthita parsvakonasana': 95,\n",
       " 'utthita trikonasana': 96,\n",
       " 'vajrasana': 97,\n",
       " 'vasisthasana': 98,\n",
       " 'viparita karani': 99,\n",
       " 'virabhadrasana i': 100,\n",
       " 'virabhadrasana ii': 101,\n",
       " 'virabhadrasana iii': 102,\n",
       " 'virasana': 103,\n",
       " 'vriksasana': 104,\n",
       " 'vrischikasana': 105,\n",
       " 'yoganidrasana': 106}"
      ]
     },
     "execution_count": 146,
     "metadata": {},
     "output_type": "execute_result"
    }
   ],
   "source": [
    "label_map"
   ]
  },
  {
   "cell_type": "code",
   "execution_count": 170,
   "id": "3d48261f",
   "metadata": {},
   "outputs": [],
   "source": [
    "poses_kp, labels_kp = [], []\n",
    "for pose_action in poses:\n",
    "    pose_path = os.path.join(main_dir, 'keypoints', pose_action)\n",
    "    pose_count = len(os.listdir(pose_path))\n",
    "    for pose_kp in range(pose_count):\n",
    "        keypoints = np.load(os.path.join(main_dir, 'keypoints', pose_action,'{}.npy'.format(pose_kp)))\n",
    "        poses_kp.append(keypoints)\n",
    "        labels_kp.append(label_map[pose_action])\n",
    "    "
   ]
  },
  {
   "cell_type": "code",
   "execution_count": 164,
   "id": "4a0904e5",
   "metadata": {},
   "outputs": [
    {
     "data": {
      "text/plain": [
       "(5991, 132)"
      ]
     },
     "execution_count": 164,
     "metadata": {},
     "output_type": "execute_result"
    }
   ],
   "source": [
    "np.array(poses_kp).shape"
   ]
  },
  {
   "cell_type": "code",
   "execution_count": 173,
   "id": "b3467558",
   "metadata": {},
   "outputs": [
    {
     "data": {
      "text/plain": [
       "(5991,)"
      ]
     },
     "execution_count": 173,
     "metadata": {},
     "output_type": "execute_result"
    }
   ],
   "source": [
    "np.array(labels_kp).shape"
   ]
  },
  {
   "cell_type": "code",
   "execution_count": 174,
   "id": "411a513f",
   "metadata": {},
   "outputs": [
    {
     "data": {
      "text/plain": [
       "(5991, 132)"
      ]
     },
     "execution_count": 174,
     "metadata": {},
     "output_type": "execute_result"
    }
   ],
   "source": [
    "X = np.array(poses_kp)\n",
    "X.shape"
   ]
  },
  {
   "cell_type": "code",
   "execution_count": 178,
   "id": "990639dd",
   "metadata": {},
   "outputs": [
    {
     "data": {
      "text/plain": [
       "(5991, 107)"
      ]
     },
     "execution_count": 178,
     "metadata": {},
     "output_type": "execute_result"
    }
   ],
   "source": [
    "y = to_categorical(labels_kp).astype(int)\n",
    "y.shape"
   ]
  },
  {
   "cell_type": "code",
   "execution_count": 180,
   "id": "8ebf1e1e",
   "metadata": {},
   "outputs": [],
   "source": [
    "X_train, X_test, y_train, y_test = train_test_split(X, y, test_size = 0.05)"
   ]
  },
  {
   "cell_type": "code",
   "execution_count": 189,
   "id": "9d869898",
   "metadata": {},
   "outputs": [],
   "source": [
    "from keras.models import Sequential\n",
    "from keras.layers import Dense\n",
    "from keras.layers import Flatten\n",
    "from keras.layers import Dropout\n",
    "from keras.layers.convolutional import Conv1D\n",
    "from keras.layers.convolutional import MaxPooling1D"
   ]
  },
  {
   "cell_type": "code",
   "execution_count": 190,
   "id": "062b356d",
   "metadata": {},
   "outputs": [],
   "source": [
    "model = Sequential()\n",
    "model.add(Conv1D(filters = 64, kernel_size = 3, activation='relu',input_shape=(132,1)))\n",
    "model.add(Conv1D(filters = 64, kernel_size = 3, activation='relu'))\n",
    "model.add(MaxPooling1D(pool_size = 2))\n",
    "model.add(Flatten())\n",
    "model.add(Dense(128, activation= 'relu'))\n",
    "model.add(Dense(107, activation= 'softmax'))"
   ]
  },
  {
   "cell_type": "code",
   "execution_count": 191,
   "id": "3b06e9eb",
   "metadata": {},
   "outputs": [],
   "source": [
    "model.compile(loss='categorical_crossentropy', optimizer ='adam', metrics = ['accuracy'])"
   ]
  },
  {
   "cell_type": "code",
   "execution_count": 196,
   "id": "b4299e09",
   "metadata": {},
   "outputs": [
    {
     "name": "stdout",
     "output_type": "stream",
     "text": [
      "Model: \"sequential_1\"\n",
      "_________________________________________________________________\n",
      " Layer (type)                Output Shape              Param #   \n",
      "=================================================================\n",
      " conv1d_2 (Conv1D)           (None, 130, 64)           256       \n",
      "                                                                 \n",
      " conv1d_3 (Conv1D)           (None, 128, 64)           12352     \n",
      "                                                                 \n",
      " max_pooling1d_1 (MaxPooling  (None, 64, 64)           0         \n",
      " 1D)                                                             \n",
      "                                                                 \n",
      " flatten (Flatten)           (None, 4096)              0         \n",
      "                                                                 \n",
      " dense (Dense)               (None, 128)               524416    \n",
      "                                                                 \n",
      " dense_1 (Dense)             (None, 107)               13803     \n",
      "                                                                 \n",
      "=================================================================\n",
      "Total params: 550,827\n",
      "Trainable params: 550,827\n",
      "Non-trainable params: 0\n",
      "_________________________________________________________________\n"
     ]
    }
   ],
   "source": [
    "model.summary()"
   ]
  },
  {
   "cell_type": "code",
   "execution_count": 192,
   "id": "2af52212",
   "metadata": {},
   "outputs": [
    {
     "name": "stdout",
     "output_type": "stream",
     "text": [
      "Epoch 1/100\n",
      "178/178 [==============================] - 4s 14ms/step - loss: 4.1112 - accuracy: 0.0958\n",
      "Epoch 2/100\n",
      "178/178 [==============================] - 2s 14ms/step - loss: 2.4312 - accuracy: 0.3848\n",
      "Epoch 3/100\n",
      "178/178 [==============================] - 2s 14ms/step - loss: 1.7845 - accuracy: 0.5271\n",
      "Epoch 4/100\n",
      "178/178 [==============================] - 2s 14ms/step - loss: 1.5039 - accuracy: 0.5980\n",
      "Epoch 5/100\n",
      "178/178 [==============================] - 2s 14ms/step - loss: 1.3459 - accuracy: 0.6371\n",
      "Epoch 6/100\n",
      "178/178 [==============================] - 2s 14ms/step - loss: 1.2164 - accuracy: 0.6651\n",
      "Epoch 7/100\n",
      "178/178 [==============================] - 2s 14ms/step - loss: 1.1355 - accuracy: 0.6848\n",
      "Epoch 8/100\n",
      "178/178 [==============================] - 2s 14ms/step - loss: 1.0672 - accuracy: 0.7053\n",
      "Epoch 9/100\n",
      "178/178 [==============================] - 2s 14ms/step - loss: 0.9888 - accuracy: 0.7259\n",
      "Epoch 10/100\n",
      "178/178 [==============================] - 2s 14ms/step - loss: 0.9380 - accuracy: 0.7348\n",
      "Epoch 11/100\n",
      "178/178 [==============================] - 2s 14ms/step - loss: 0.8899 - accuracy: 0.7475\n",
      "Epoch 12/100\n",
      "178/178 [==============================] - 2s 14ms/step - loss: 0.8522 - accuracy: 0.7573\n",
      "Epoch 13/100\n",
      "178/178 [==============================] - 2s 14ms/step - loss: 0.8228 - accuracy: 0.7645\n",
      "Epoch 14/100\n",
      "178/178 [==============================] - 2s 14ms/step - loss: 0.7822 - accuracy: 0.7730\n",
      "Epoch 15/100\n",
      "178/178 [==============================] - 2s 14ms/step - loss: 0.7450 - accuracy: 0.7823\n",
      "Epoch 16/100\n",
      "178/178 [==============================] - 2s 14ms/step - loss: 0.7088 - accuracy: 0.7988\n",
      "Epoch 17/100\n",
      "178/178 [==============================] - 2s 14ms/step - loss: 0.6911 - accuracy: 0.7997\n",
      "Epoch 18/100\n",
      "178/178 [==============================] - 2s 14ms/step - loss: 0.6750 - accuracy: 0.8048\n",
      "Epoch 19/100\n",
      "178/178 [==============================] - 2s 14ms/step - loss: 0.6415 - accuracy: 0.8115\n",
      "Epoch 20/100\n",
      "178/178 [==============================] - 2s 14ms/step - loss: 0.6304 - accuracy: 0.8195\n",
      "Epoch 21/100\n",
      "178/178 [==============================] - 2s 14ms/step - loss: 0.6136 - accuracy: 0.8239\n",
      "Epoch 22/100\n",
      "178/178 [==============================] - 2s 14ms/step - loss: 0.5947 - accuracy: 0.8294\n",
      "Epoch 23/100\n",
      "178/178 [==============================] - 2s 14ms/step - loss: 0.5884 - accuracy: 0.8332\n",
      "Epoch 24/100\n",
      "178/178 [==============================] - 2s 14ms/step - loss: 0.5644 - accuracy: 0.8389\n",
      "Epoch 25/100\n",
      "178/178 [==============================] - 2s 14ms/step - loss: 0.5610 - accuracy: 0.8404\n",
      "Epoch 26/100\n",
      "178/178 [==============================] - 2s 14ms/step - loss: 0.5482 - accuracy: 0.8464\n",
      "Epoch 27/100\n",
      "178/178 [==============================] - 2s 14ms/step - loss: 0.5403 - accuracy: 0.8485\n",
      "Epoch 28/100\n",
      "178/178 [==============================] - 3s 14ms/step - loss: 0.5376 - accuracy: 0.8510\n",
      "Epoch 29/100\n",
      "178/178 [==============================] - 2s 14ms/step - loss: 0.5234 - accuracy: 0.8515\n",
      "Epoch 30/100\n",
      "178/178 [==============================] - 3s 14ms/step - loss: 0.5173 - accuracy: 0.8584\n",
      "Epoch 31/100\n",
      "178/178 [==============================] - 2s 14ms/step - loss: 0.5199 - accuracy: 0.8547\n",
      "Epoch 32/100\n",
      "178/178 [==============================] - 2s 14ms/step - loss: 0.5253 - accuracy: 0.8517\n",
      "Epoch 33/100\n",
      "178/178 [==============================] - 2s 14ms/step - loss: 0.4991 - accuracy: 0.8626\n",
      "Epoch 34/100\n",
      "178/178 [==============================] - 3s 14ms/step - loss: 0.5021 - accuracy: 0.8570\n",
      "Epoch 35/100\n",
      "178/178 [==============================] - 2s 14ms/step - loss: 0.5169 - accuracy: 0.8598\n",
      "Epoch 36/100\n",
      "178/178 [==============================] - 3s 14ms/step - loss: 0.4931 - accuracy: 0.8686\n",
      "Epoch 37/100\n",
      "178/178 [==============================] - 3s 14ms/step - loss: 0.4775 - accuracy: 0.8716\n",
      "Epoch 38/100\n",
      "178/178 [==============================] - 3s 14ms/step - loss: 0.4774 - accuracy: 0.8686\n",
      "Epoch 39/100\n",
      "178/178 [==============================] - 3s 15ms/step - loss: 0.4713 - accuracy: 0.8724\n",
      "Epoch 40/100\n",
      "178/178 [==============================] - 3s 14ms/step - loss: 0.4819 - accuracy: 0.8684\n",
      "Epoch 41/100\n",
      "178/178 [==============================] - 3s 14ms/step - loss: 0.4828 - accuracy: 0.8642\n",
      "Epoch 42/100\n",
      "178/178 [==============================] - 3s 15ms/step - loss: 0.4817 - accuracy: 0.8675\n",
      "Epoch 43/100\n",
      "178/178 [==============================] - 3s 14ms/step - loss: 0.4892 - accuracy: 0.8668\n",
      "Epoch 44/100\n",
      "178/178 [==============================] - 3s 15ms/step - loss: 0.4636 - accuracy: 0.8719\n",
      "Epoch 45/100\n",
      "178/178 [==============================] - 3s 15ms/step - loss: 0.4521 - accuracy: 0.8809\n",
      "Epoch 46/100\n",
      "178/178 [==============================] - 3s 15ms/step - loss: 0.4578 - accuracy: 0.8774\n",
      "Epoch 47/100\n",
      "178/178 [==============================] - 3s 15ms/step - loss: 0.4664 - accuracy: 0.8682\n",
      "Epoch 48/100\n",
      "178/178 [==============================] - 3s 15ms/step - loss: 0.4561 - accuracy: 0.8781\n",
      "Epoch 49/100\n",
      "178/178 [==============================] - 3s 15ms/step - loss: 0.4466 - accuracy: 0.8831\n",
      "Epoch 50/100\n",
      "178/178 [==============================] - 3s 16ms/step - loss: 0.4578 - accuracy: 0.8742\n",
      "Epoch 51/100\n",
      "178/178 [==============================] - 3s 15ms/step - loss: 0.4563 - accuracy: 0.8772\n",
      "Epoch 52/100\n",
      "178/178 [==============================] - 3s 15ms/step - loss: 0.4484 - accuracy: 0.8814\n",
      "Epoch 53/100\n",
      "178/178 [==============================] - 3s 15ms/step - loss: 0.4344 - accuracy: 0.8849\n",
      "Epoch 54/100\n",
      "178/178 [==============================] - 3s 15ms/step - loss: 0.4398 - accuracy: 0.8847\n",
      "Epoch 55/100\n",
      "178/178 [==============================] - 3s 15ms/step - loss: 0.4270 - accuracy: 0.8867\n",
      "Epoch 56/100\n",
      "178/178 [==============================] - 3s 15ms/step - loss: 0.4446 - accuracy: 0.8810\n",
      "Epoch 57/100\n",
      "178/178 [==============================] - 3s 15ms/step - loss: 0.4322 - accuracy: 0.8882\n",
      "Epoch 58/100\n",
      "178/178 [==============================] - 3s 15ms/step - loss: 0.4471 - accuracy: 0.8807\n",
      "Epoch 59/100\n",
      "178/178 [==============================] - 3s 15ms/step - loss: 0.4559 - accuracy: 0.8730\n",
      "Epoch 60/100\n",
      "178/178 [==============================] - 3s 15ms/step - loss: 0.4488 - accuracy: 0.8803\n",
      "Epoch 61/100\n",
      "178/178 [==============================] - 3s 15ms/step - loss: 0.4196 - accuracy: 0.8861\n",
      "Epoch 62/100\n",
      "178/178 [==============================] - 3s 16ms/step - loss: 0.4189 - accuracy: 0.8893\n",
      "Epoch 63/100\n",
      "178/178 [==============================] - 3s 15ms/step - loss: 0.4189 - accuracy: 0.8909\n",
      "Epoch 64/100\n",
      "178/178 [==============================] - 3s 15ms/step - loss: 0.4270 - accuracy: 0.8911\n",
      "Epoch 65/100\n",
      "178/178 [==============================] - 3s 15ms/step - loss: 0.4246 - accuracy: 0.8868\n",
      "Epoch 66/100\n",
      "178/178 [==============================] - 3s 15ms/step - loss: 0.4241 - accuracy: 0.8858\n",
      "Epoch 67/100\n",
      "178/178 [==============================] - 3s 16ms/step - loss: 0.4285 - accuracy: 0.8861\n",
      "Epoch 68/100\n",
      "178/178 [==============================] - 3s 16ms/step - loss: 0.4270 - accuracy: 0.8861\n",
      "Epoch 69/100\n",
      "178/178 [==============================] - 3s 16ms/step - loss: 0.4129 - accuracy: 0.8900\n",
      "Epoch 70/100\n",
      "178/178 [==============================] - 3s 16ms/step - loss: 0.4173 - accuracy: 0.8914\n",
      "Epoch 71/100\n",
      "178/178 [==============================] - 3s 16ms/step - loss: 0.4136 - accuracy: 0.8926\n",
      "Epoch 72/100\n",
      "178/178 [==============================] - 3s 16ms/step - loss: 0.4166 - accuracy: 0.8932\n",
      "Epoch 73/100\n",
      "178/178 [==============================] - 3s 16ms/step - loss: 0.4114 - accuracy: 0.8925\n",
      "Epoch 74/100\n",
      "178/178 [==============================] - 3s 16ms/step - loss: 0.4189 - accuracy: 0.8879\n",
      "Epoch 75/100\n",
      "178/178 [==============================] - 3s 16ms/step - loss: 0.4243 - accuracy: 0.8851\n",
      "Epoch 76/100\n",
      "178/178 [==============================] - 3s 16ms/step - loss: 0.4165 - accuracy: 0.8900\n",
      "Epoch 77/100\n",
      "178/178 [==============================] - 3s 16ms/step - loss: 0.4123 - accuracy: 0.8928\n",
      "Epoch 78/100\n",
      "178/178 [==============================] - 3s 16ms/step - loss: 0.4039 - accuracy: 0.8946\n",
      "Epoch 79/100\n",
      "178/178 [==============================] - 3s 16ms/step - loss: 0.3984 - accuracy: 0.8947\n",
      "Epoch 80/100\n"
     ]
    },
    {
     "name": "stdout",
     "output_type": "stream",
     "text": [
      "178/178 [==============================] - 3s 16ms/step - loss: 0.3898 - accuracy: 0.8981\n",
      "Epoch 81/100\n",
      "178/178 [==============================] - 3s 16ms/step - loss: 0.4085 - accuracy: 0.8940\n",
      "Epoch 82/100\n",
      "178/178 [==============================] - 3s 16ms/step - loss: 0.4178 - accuracy: 0.8875\n",
      "Epoch 83/100\n",
      "178/178 [==============================] - 3s 16ms/step - loss: 0.4220 - accuracy: 0.8912\n",
      "Epoch 84/100\n",
      "178/178 [==============================] - 3s 16ms/step - loss: 0.3999 - accuracy: 0.8958\n",
      "Epoch 85/100\n",
      "178/178 [==============================] - 3s 16ms/step - loss: 0.3966 - accuracy: 0.8963\n",
      "Epoch 86/100\n",
      "178/178 [==============================] - 3s 16ms/step - loss: 0.3946 - accuracy: 0.8967\n",
      "Epoch 87/100\n",
      "178/178 [==============================] - 3s 16ms/step - loss: 0.4021 - accuracy: 0.8940\n",
      "Epoch 88/100\n",
      "178/178 [==============================] - 3s 16ms/step - loss: 0.3972 - accuracy: 0.8977\n",
      "Epoch 89/100\n",
      "178/178 [==============================] - 3s 16ms/step - loss: 0.4000 - accuracy: 0.8946\n",
      "Epoch 90/100\n",
      "178/178 [==============================] - 3s 16ms/step - loss: 0.4041 - accuracy: 0.8960\n",
      "Epoch 91/100\n",
      "178/178 [==============================] - 3s 16ms/step - loss: 0.4032 - accuracy: 0.8939\n",
      "Epoch 92/100\n",
      "178/178 [==============================] - 3s 16ms/step - loss: 0.4107 - accuracy: 0.8919\n",
      "Epoch 93/100\n",
      "178/178 [==============================] - 3s 16ms/step - loss: 0.3857 - accuracy: 0.8983\n",
      "Epoch 94/100\n",
      "178/178 [==============================] - 3s 16ms/step - loss: 0.4029 - accuracy: 0.8935\n",
      "Epoch 95/100\n",
      "178/178 [==============================] - 3s 16ms/step - loss: 0.3999 - accuracy: 0.8962\n",
      "Epoch 96/100\n",
      "178/178 [==============================] - 3s 16ms/step - loss: 0.3788 - accuracy: 0.9025\n",
      "Epoch 97/100\n",
      "178/178 [==============================] - 3s 16ms/step - loss: 0.3828 - accuracy: 0.9027\n",
      "Epoch 98/100\n",
      "178/178 [==============================] - 3s 16ms/step - loss: 0.3846 - accuracy: 0.8984\n",
      "Epoch 99/100\n",
      "178/178 [==============================] - 3s 16ms/step - loss: 0.3980 - accuracy: 0.8944\n",
      "Epoch 100/100\n",
      "178/178 [==============================] - 3s 16ms/step - loss: 0.4026 - accuracy: 0.8965\n"
     ]
    },
    {
     "data": {
      "text/plain": [
       "<keras.callbacks.History at 0x2c11bf9f7c0>"
      ]
     },
     "execution_count": 192,
     "metadata": {},
     "output_type": "execute_result"
    }
   ],
   "source": [
    "model.fit(X_train, y_train, epochs = 100, verbose = True)"
   ]
  },
  {
   "cell_type": "code",
   "execution_count": 231,
   "id": "0c01087a",
   "metadata": {},
   "outputs": [
    {
     "name": "stdout",
     "output_type": "stream",
     "text": [
      "10/10 [==============================] - 0s 5ms/step\n",
      "[ 85  85  75  12  73  14   0  21  62  80  30  76  56  94  43  34  89  48\n",
      "  69  82  95  28   3  79   0  45  97  59  74  66  70  61  85  71  39  35\n",
      "  29  85  71  96  91  17  34  10  78   2  31  90   5   0   6   5  99  52\n",
      "   0  34  36  20  58  64  65  58  15  85  63  52   7  90  98  76  10  66\n",
      "  19   0  85   4  22  94  86  97  19  10  94  52  52  60  14  62  13  21\n",
      "  45  10   3  42  63  85  49  26  85  17 104 104  61  23  69  69  31  47\n",
      "  17  21  52  21  47  99  21  46 104 104  85  92 105  85  57  37  60 105\n",
      "  52  51  18  27  81  97  17  30  19  70  56  40  58  84  52  98  76 106\n",
      "  78  63  13 102  85  49  77  40  39   0 101  81  61  45  85  94 102  62\n",
      "  60  11  63  96  30  87  82  61  51  21  78  13   0  24  63  90  82  88\n",
      "  64  14  87 102   3  87  37 104  35  17 101  35  19  93  44  72  63  60\n",
      "  74  32   9  25  56  85  31  75   9   8  13   6  96  75  93  85  79  85\n",
      "  17   5  85  42  78 100  80  23  11  40  66   0  12  14 100  47  84  98\n",
      " 104   3  77  85  22  40  90  46  22  50   9  60  90  71  57   4  85  41\n",
      "  48  85 106  54  67  93  94  98  39  52  71  90  54  34  52  29  89  10\n",
      "  21 100  85  85  85  72  22  61  85  24  13   9  15  93  51  68  85   7\n",
      "  77  81  10  17  85  85  82  40  12  22  44  76]\n"
     ]
    }
   ],
   "source": [
    "pred = model.predict(X_test)\n",
    "pred_y = pred.argmax(axis = -1)\n",
    "print(pred_y)"
   ]
  },
  {
   "cell_type": "code",
   "execution_count": 221,
   "id": "5e6cac0d",
   "metadata": {},
   "outputs": [
    {
     "ename": "InvalidArgumentError",
     "evalue": "Graph execution error:\n\nDetected at node 'sequential_1/conv1d_2/Conv1D/ExpandDims' defined at (most recent call last):\n    File \"C:\\Users\\nguye\\AppData\\Local\\Programs\\Python\\Python39\\lib\\runpy.py\", line 197, in _run_module_as_main\n      return _run_code(code, main_globals, None,\n    File \"C:\\Users\\nguye\\AppData\\Local\\Programs\\Python\\Python39\\lib\\runpy.py\", line 87, in _run_code\n      exec(code, run_globals)\n    File \"c:\\users\\nguye\\pycharmprojects\\dpl302\\venv\\lib\\site-packages\\ipykernel_launcher.py\", line 17, in <module>\n      app.launch_new_instance()\n    File \"c:\\users\\nguye\\pycharmprojects\\dpl302\\venv\\lib\\site-packages\\traitlets\\config\\application.py\", line 1043, in launch_instance\n      app.start()\n    File \"c:\\users\\nguye\\pycharmprojects\\dpl302\\venv\\lib\\site-packages\\ipykernel\\kernelapp.py\", line 725, in start\n      self.io_loop.start()\n    File \"c:\\users\\nguye\\pycharmprojects\\dpl302\\venv\\lib\\site-packages\\tornado\\platform\\asyncio.py\", line 195, in start\n      self.asyncio_loop.run_forever()\n    File \"C:\\Users\\nguye\\AppData\\Local\\Programs\\Python\\Python39\\lib\\asyncio\\base_events.py\", line 596, in run_forever\n      self._run_once()\n    File \"C:\\Users\\nguye\\AppData\\Local\\Programs\\Python\\Python39\\lib\\asyncio\\base_events.py\", line 1890, in _run_once\n      handle._run()\n    File \"C:\\Users\\nguye\\AppData\\Local\\Programs\\Python\\Python39\\lib\\asyncio\\events.py\", line 80, in _run\n      self._context.run(self._callback, *self._args)\n    File \"c:\\users\\nguye\\pycharmprojects\\dpl302\\venv\\lib\\site-packages\\ipykernel\\kernelbase.py\", line 513, in dispatch_queue\n      await self.process_one()\n    File \"c:\\users\\nguye\\pycharmprojects\\dpl302\\venv\\lib\\site-packages\\ipykernel\\kernelbase.py\", line 502, in process_one\n      await dispatch(*args)\n    File \"c:\\users\\nguye\\pycharmprojects\\dpl302\\venv\\lib\\site-packages\\ipykernel\\kernelbase.py\", line 409, in dispatch_shell\n      await result\n    File \"c:\\users\\nguye\\pycharmprojects\\dpl302\\venv\\lib\\site-packages\\ipykernel\\kernelbase.py\", line 729, in execute_request\n      reply_content = await reply_content\n    File \"c:\\users\\nguye\\pycharmprojects\\dpl302\\venv\\lib\\site-packages\\ipykernel\\ipkernel.py\", line 422, in do_execute\n      res = shell.run_cell(\n    File \"c:\\users\\nguye\\pycharmprojects\\dpl302\\venv\\lib\\site-packages\\ipykernel\\zmqshell.py\", line 540, in run_cell\n      return super().run_cell(*args, **kwargs)\n    File \"c:\\users\\nguye\\pycharmprojects\\dpl302\\venv\\lib\\site-packages\\IPython\\core\\interactiveshell.py\", line 3009, in run_cell\n      result = self._run_cell(\n    File \"c:\\users\\nguye\\pycharmprojects\\dpl302\\venv\\lib\\site-packages\\IPython\\core\\interactiveshell.py\", line 3064, in _run_cell\n      result = runner(coro)\n    File \"c:\\users\\nguye\\pycharmprojects\\dpl302\\venv\\lib\\site-packages\\IPython\\core\\async_helpers.py\", line 129, in _pseudo_sync_runner\n      coro.send(None)\n    File \"c:\\users\\nguye\\pycharmprojects\\dpl302\\venv\\lib\\site-packages\\IPython\\core\\interactiveshell.py\", line 3269, in run_cell_async\n      has_raised = await self.run_ast_nodes(code_ast.body, cell_name,\n    File \"c:\\users\\nguye\\pycharmprojects\\dpl302\\venv\\lib\\site-packages\\IPython\\core\\interactiveshell.py\", line 3448, in run_ast_nodes\n      if await self.run_code(code, result, async_=asy):\n    File \"c:\\users\\nguye\\pycharmprojects\\dpl302\\venv\\lib\\site-packages\\IPython\\core\\interactiveshell.py\", line 3508, in run_code\n      exec(code_obj, self.user_global_ns, self.user_ns)\n    File \"C:\\Users\\nguye\\AppData\\Local\\Temp\\ipykernel_3668\\1141457639.py\", line 13, in <module>\n      print(model.predict(keypoints))\n    File \"c:\\users\\nguye\\pycharmprojects\\dpl302\\venv\\lib\\site-packages\\keras\\utils\\traceback_utils.py\", line 65, in error_handler\n      return fn(*args, **kwargs)\n    File \"c:\\users\\nguye\\pycharmprojects\\dpl302\\venv\\lib\\site-packages\\keras\\engine\\training.py\", line 2382, in predict\n      tmp_batch_outputs = self.predict_function(iterator)\n    File \"c:\\users\\nguye\\pycharmprojects\\dpl302\\venv\\lib\\site-packages\\keras\\engine\\training.py\", line 2169, in predict_function\n      return step_function(self, iterator)\n    File \"c:\\users\\nguye\\pycharmprojects\\dpl302\\venv\\lib\\site-packages\\keras\\engine\\training.py\", line 2155, in step_function\n      outputs = model.distribute_strategy.run(run_step, args=(data,))\n    File \"c:\\users\\nguye\\pycharmprojects\\dpl302\\venv\\lib\\site-packages\\keras\\engine\\training.py\", line 2143, in run_step\n      outputs = model.predict_step(data)\n    File \"c:\\users\\nguye\\pycharmprojects\\dpl302\\venv\\lib\\site-packages\\keras\\engine\\training.py\", line 2111, in predict_step\n      return self(x, training=False)\n    File \"c:\\users\\nguye\\pycharmprojects\\dpl302\\venv\\lib\\site-packages\\keras\\utils\\traceback_utils.py\", line 65, in error_handler\n      return fn(*args, **kwargs)\n    File \"c:\\users\\nguye\\pycharmprojects\\dpl302\\venv\\lib\\site-packages\\keras\\engine\\training.py\", line 558, in __call__\n      return super().__call__(*args, **kwargs)\n    File \"c:\\users\\nguye\\pycharmprojects\\dpl302\\venv\\lib\\site-packages\\keras\\utils\\traceback_utils.py\", line 65, in error_handler\n      return fn(*args, **kwargs)\n    File \"c:\\users\\nguye\\pycharmprojects\\dpl302\\venv\\lib\\site-packages\\keras\\engine\\base_layer.py\", line 1145, in __call__\n      outputs = call_fn(inputs, *args, **kwargs)\n    File \"c:\\users\\nguye\\pycharmprojects\\dpl302\\venv\\lib\\site-packages\\keras\\utils\\traceback_utils.py\", line 96, in error_handler\n      return fn(*args, **kwargs)\n    File \"c:\\users\\nguye\\pycharmprojects\\dpl302\\venv\\lib\\site-packages\\keras\\engine\\sequential.py\", line 412, in call\n      return super().call(inputs, training=training, mask=mask)\n    File \"c:\\users\\nguye\\pycharmprojects\\dpl302\\venv\\lib\\site-packages\\keras\\engine\\functional.py\", line 512, in call\n      return self._run_internal_graph(inputs, training=training, mask=mask)\n    File \"c:\\users\\nguye\\pycharmprojects\\dpl302\\venv\\lib\\site-packages\\keras\\engine\\functional.py\", line 669, in _run_internal_graph\n      outputs = node.layer(*args, **kwargs)\n    File \"c:\\users\\nguye\\pycharmprojects\\dpl302\\venv\\lib\\site-packages\\keras\\utils\\traceback_utils.py\", line 65, in error_handler\n      return fn(*args, **kwargs)\n    File \"c:\\users\\nguye\\pycharmprojects\\dpl302\\venv\\lib\\site-packages\\keras\\engine\\base_layer.py\", line 1145, in __call__\n      outputs = call_fn(inputs, *args, **kwargs)\n    File \"c:\\users\\nguye\\pycharmprojects\\dpl302\\venv\\lib\\site-packages\\keras\\utils\\traceback_utils.py\", line 96, in error_handler\n      return fn(*args, **kwargs)\n    File \"c:\\users\\nguye\\pycharmprojects\\dpl302\\venv\\lib\\site-packages\\keras\\layers\\convolutional\\base_conv.py\", line 290, in call\n      outputs = self.convolution_op(inputs, self.kernel)\n    File \"c:\\users\\nguye\\pycharmprojects\\dpl302\\venv\\lib\\site-packages\\keras\\layers\\convolutional\\base_conv.py\", line 262, in convolution_op\n      return tf.nn.convolution(\nNode: 'sequential_1/conv1d_2/Conv1D/ExpandDims'\nTried to expand dim index -3 for tensor with 1 dimensions.\n\t [[{{node sequential_1/conv1d_2/Conv1D/ExpandDims}}]] [Op:__inference_predict_function_74661]",
     "output_type": "error",
     "traceback": [
      "\u001b[1;31m---------------------------------------------------------------------------\u001b[0m",
      "\u001b[1;31mInvalidArgumentError\u001b[0m                      Traceback (most recent call last)",
      "Cell \u001b[1;32mIn[221], line 14\u001b[0m\n\u001b[0;32m     10\u001b[0m frame \u001b[38;5;241m=\u001b[39m cv\u001b[38;5;241m.\u001b[39mcvtColor(frame, cv\u001b[38;5;241m.\u001b[39mCOLOR_RGB2BGR)\n\u001b[0;32m     12\u001b[0m keypoints \u001b[38;5;241m=\u001b[39m np\u001b[38;5;241m.\u001b[39marray([[result\u001b[38;5;241m.\u001b[39mx, result\u001b[38;5;241m.\u001b[39my, result\u001b[38;5;241m.\u001b[39mz, result\u001b[38;5;241m.\u001b[39mvisibility] \u001b[38;5;28;01mfor\u001b[39;00m result \u001b[38;5;129;01min\u001b[39;00m results\u001b[38;5;241m.\u001b[39mpose_landmarks\u001b[38;5;241m.\u001b[39mlandmark])\u001b[38;5;241m.\u001b[39mflatten() \u001b[38;5;28;01mif\u001b[39;00m results\u001b[38;5;241m.\u001b[39mpose_landmarks \u001b[38;5;28;01melse\u001b[39;00m np\u001b[38;5;241m.\u001b[39mzeros(\u001b[38;5;241m33\u001b[39m\u001b[38;5;241m*\u001b[39m\u001b[38;5;241m4\u001b[39m)\n\u001b[1;32m---> 14\u001b[0m pred \u001b[38;5;241m=\u001b[39m \u001b[43mmodel\u001b[49m\u001b[38;5;241;43m.\u001b[39;49m\u001b[43mpredict\u001b[49m\u001b[43m(\u001b[49m\u001b[43mkeypoints\u001b[49m\u001b[43m)\u001b[49m\n\u001b[0;32m     15\u001b[0m pred_y \u001b[38;5;241m=\u001b[39m pred\u001b[38;5;241m.\u001b[39margmax(axis\u001b[38;5;241m=\u001b[39m\u001b[38;5;241m-\u001b[39m\u001b[38;5;241m1\u001b[39m)\n\u001b[0;32m     16\u001b[0m \u001b[38;5;28mprint\u001b[39m(pred_y)\n",
      "File \u001b[1;32mc:\\users\\nguye\\pycharmprojects\\dpl302\\venv\\lib\\site-packages\\keras\\utils\\traceback_utils.py:70\u001b[0m, in \u001b[0;36mfilter_traceback.<locals>.error_handler\u001b[1;34m(*args, **kwargs)\u001b[0m\n\u001b[0;32m     67\u001b[0m     filtered_tb \u001b[38;5;241m=\u001b[39m _process_traceback_frames(e\u001b[38;5;241m.\u001b[39m__traceback__)\n\u001b[0;32m     68\u001b[0m     \u001b[38;5;66;03m# To get the full stack trace, call:\u001b[39;00m\n\u001b[0;32m     69\u001b[0m     \u001b[38;5;66;03m# `tf.debugging.disable_traceback_filtering()`\u001b[39;00m\n\u001b[1;32m---> 70\u001b[0m     \u001b[38;5;28;01mraise\u001b[39;00m e\u001b[38;5;241m.\u001b[39mwith_traceback(filtered_tb) \u001b[38;5;28;01mfrom\u001b[39;00m \u001b[38;5;28;01mNone\u001b[39;00m\n\u001b[0;32m     71\u001b[0m \u001b[38;5;28;01mfinally\u001b[39;00m:\n\u001b[0;32m     72\u001b[0m     \u001b[38;5;28;01mdel\u001b[39;00m filtered_tb\n",
      "File \u001b[1;32mc:\\users\\nguye\\pycharmprojects\\dpl302\\venv\\lib\\site-packages\\tensorflow\\python\\eager\\execute.py:52\u001b[0m, in \u001b[0;36mquick_execute\u001b[1;34m(op_name, num_outputs, inputs, attrs, ctx, name)\u001b[0m\n\u001b[0;32m     50\u001b[0m \u001b[38;5;28;01mtry\u001b[39;00m:\n\u001b[0;32m     51\u001b[0m   ctx\u001b[38;5;241m.\u001b[39mensure_initialized()\n\u001b[1;32m---> 52\u001b[0m   tensors \u001b[38;5;241m=\u001b[39m pywrap_tfe\u001b[38;5;241m.\u001b[39mTFE_Py_Execute(ctx\u001b[38;5;241m.\u001b[39m_handle, device_name, op_name,\n\u001b[0;32m     53\u001b[0m                                       inputs, attrs, num_outputs)\n\u001b[0;32m     54\u001b[0m \u001b[38;5;28;01mexcept\u001b[39;00m core\u001b[38;5;241m.\u001b[39m_NotOkStatusException \u001b[38;5;28;01mas\u001b[39;00m e:\n\u001b[0;32m     55\u001b[0m   \u001b[38;5;28;01mif\u001b[39;00m name \u001b[38;5;129;01mis\u001b[39;00m \u001b[38;5;129;01mnot\u001b[39;00m \u001b[38;5;28;01mNone\u001b[39;00m:\n",
      "\u001b[1;31mInvalidArgumentError\u001b[0m: Graph execution error:\n\nDetected at node 'sequential_1/conv1d_2/Conv1D/ExpandDims' defined at (most recent call last):\n    File \"C:\\Users\\nguye\\AppData\\Local\\Programs\\Python\\Python39\\lib\\runpy.py\", line 197, in _run_module_as_main\n      return _run_code(code, main_globals, None,\n    File \"C:\\Users\\nguye\\AppData\\Local\\Programs\\Python\\Python39\\lib\\runpy.py\", line 87, in _run_code\n      exec(code, run_globals)\n    File \"c:\\users\\nguye\\pycharmprojects\\dpl302\\venv\\lib\\site-packages\\ipykernel_launcher.py\", line 17, in <module>\n      app.launch_new_instance()\n    File \"c:\\users\\nguye\\pycharmprojects\\dpl302\\venv\\lib\\site-packages\\traitlets\\config\\application.py\", line 1043, in launch_instance\n      app.start()\n    File \"c:\\users\\nguye\\pycharmprojects\\dpl302\\venv\\lib\\site-packages\\ipykernel\\kernelapp.py\", line 725, in start\n      self.io_loop.start()\n    File \"c:\\users\\nguye\\pycharmprojects\\dpl302\\venv\\lib\\site-packages\\tornado\\platform\\asyncio.py\", line 195, in start\n      self.asyncio_loop.run_forever()\n    File \"C:\\Users\\nguye\\AppData\\Local\\Programs\\Python\\Python39\\lib\\asyncio\\base_events.py\", line 596, in run_forever\n      self._run_once()\n    File \"C:\\Users\\nguye\\AppData\\Local\\Programs\\Python\\Python39\\lib\\asyncio\\base_events.py\", line 1890, in _run_once\n      handle._run()\n    File \"C:\\Users\\nguye\\AppData\\Local\\Programs\\Python\\Python39\\lib\\asyncio\\events.py\", line 80, in _run\n      self._context.run(self._callback, *self._args)\n    File \"c:\\users\\nguye\\pycharmprojects\\dpl302\\venv\\lib\\site-packages\\ipykernel\\kernelbase.py\", line 513, in dispatch_queue\n      await self.process_one()\n    File \"c:\\users\\nguye\\pycharmprojects\\dpl302\\venv\\lib\\site-packages\\ipykernel\\kernelbase.py\", line 502, in process_one\n      await dispatch(*args)\n    File \"c:\\users\\nguye\\pycharmprojects\\dpl302\\venv\\lib\\site-packages\\ipykernel\\kernelbase.py\", line 409, in dispatch_shell\n      await result\n    File \"c:\\users\\nguye\\pycharmprojects\\dpl302\\venv\\lib\\site-packages\\ipykernel\\kernelbase.py\", line 729, in execute_request\n      reply_content = await reply_content\n    File \"c:\\users\\nguye\\pycharmprojects\\dpl302\\venv\\lib\\site-packages\\ipykernel\\ipkernel.py\", line 422, in do_execute\n      res = shell.run_cell(\n    File \"c:\\users\\nguye\\pycharmprojects\\dpl302\\venv\\lib\\site-packages\\ipykernel\\zmqshell.py\", line 540, in run_cell\n      return super().run_cell(*args, **kwargs)\n    File \"c:\\users\\nguye\\pycharmprojects\\dpl302\\venv\\lib\\site-packages\\IPython\\core\\interactiveshell.py\", line 3009, in run_cell\n      result = self._run_cell(\n    File \"c:\\users\\nguye\\pycharmprojects\\dpl302\\venv\\lib\\site-packages\\IPython\\core\\interactiveshell.py\", line 3064, in _run_cell\n      result = runner(coro)\n    File \"c:\\users\\nguye\\pycharmprojects\\dpl302\\venv\\lib\\site-packages\\IPython\\core\\async_helpers.py\", line 129, in _pseudo_sync_runner\n      coro.send(None)\n    File \"c:\\users\\nguye\\pycharmprojects\\dpl302\\venv\\lib\\site-packages\\IPython\\core\\interactiveshell.py\", line 3269, in run_cell_async\n      has_raised = await self.run_ast_nodes(code_ast.body, cell_name,\n    File \"c:\\users\\nguye\\pycharmprojects\\dpl302\\venv\\lib\\site-packages\\IPython\\core\\interactiveshell.py\", line 3448, in run_ast_nodes\n      if await self.run_code(code, result, async_=asy):\n    File \"c:\\users\\nguye\\pycharmprojects\\dpl302\\venv\\lib\\site-packages\\IPython\\core\\interactiveshell.py\", line 3508, in run_code\n      exec(code_obj, self.user_global_ns, self.user_ns)\n    File \"C:\\Users\\nguye\\AppData\\Local\\Temp\\ipykernel_3668\\1141457639.py\", line 13, in <module>\n      print(model.predict(keypoints))\n    File \"c:\\users\\nguye\\pycharmprojects\\dpl302\\venv\\lib\\site-packages\\keras\\utils\\traceback_utils.py\", line 65, in error_handler\n      return fn(*args, **kwargs)\n    File \"c:\\users\\nguye\\pycharmprojects\\dpl302\\venv\\lib\\site-packages\\keras\\engine\\training.py\", line 2382, in predict\n      tmp_batch_outputs = self.predict_function(iterator)\n    File \"c:\\users\\nguye\\pycharmprojects\\dpl302\\venv\\lib\\site-packages\\keras\\engine\\training.py\", line 2169, in predict_function\n      return step_function(self, iterator)\n    File \"c:\\users\\nguye\\pycharmprojects\\dpl302\\venv\\lib\\site-packages\\keras\\engine\\training.py\", line 2155, in step_function\n      outputs = model.distribute_strategy.run(run_step, args=(data,))\n    File \"c:\\users\\nguye\\pycharmprojects\\dpl302\\venv\\lib\\site-packages\\keras\\engine\\training.py\", line 2143, in run_step\n      outputs = model.predict_step(data)\n    File \"c:\\users\\nguye\\pycharmprojects\\dpl302\\venv\\lib\\site-packages\\keras\\engine\\training.py\", line 2111, in predict_step\n      return self(x, training=False)\n    File \"c:\\users\\nguye\\pycharmprojects\\dpl302\\venv\\lib\\site-packages\\keras\\utils\\traceback_utils.py\", line 65, in error_handler\n      return fn(*args, **kwargs)\n    File \"c:\\users\\nguye\\pycharmprojects\\dpl302\\venv\\lib\\site-packages\\keras\\engine\\training.py\", line 558, in __call__\n      return super().__call__(*args, **kwargs)\n    File \"c:\\users\\nguye\\pycharmprojects\\dpl302\\venv\\lib\\site-packages\\keras\\utils\\traceback_utils.py\", line 65, in error_handler\n      return fn(*args, **kwargs)\n    File \"c:\\users\\nguye\\pycharmprojects\\dpl302\\venv\\lib\\site-packages\\keras\\engine\\base_layer.py\", line 1145, in __call__\n      outputs = call_fn(inputs, *args, **kwargs)\n    File \"c:\\users\\nguye\\pycharmprojects\\dpl302\\venv\\lib\\site-packages\\keras\\utils\\traceback_utils.py\", line 96, in error_handler\n      return fn(*args, **kwargs)\n    File \"c:\\users\\nguye\\pycharmprojects\\dpl302\\venv\\lib\\site-packages\\keras\\engine\\sequential.py\", line 412, in call\n      return super().call(inputs, training=training, mask=mask)\n    File \"c:\\users\\nguye\\pycharmprojects\\dpl302\\venv\\lib\\site-packages\\keras\\engine\\functional.py\", line 512, in call\n      return self._run_internal_graph(inputs, training=training, mask=mask)\n    File \"c:\\users\\nguye\\pycharmprojects\\dpl302\\venv\\lib\\site-packages\\keras\\engine\\functional.py\", line 669, in _run_internal_graph\n      outputs = node.layer(*args, **kwargs)\n    File \"c:\\users\\nguye\\pycharmprojects\\dpl302\\venv\\lib\\site-packages\\keras\\utils\\traceback_utils.py\", line 65, in error_handler\n      return fn(*args, **kwargs)\n    File \"c:\\users\\nguye\\pycharmprojects\\dpl302\\venv\\lib\\site-packages\\keras\\engine\\base_layer.py\", line 1145, in __call__\n      outputs = call_fn(inputs, *args, **kwargs)\n    File \"c:\\users\\nguye\\pycharmprojects\\dpl302\\venv\\lib\\site-packages\\keras\\utils\\traceback_utils.py\", line 96, in error_handler\n      return fn(*args, **kwargs)\n    File \"c:\\users\\nguye\\pycharmprojects\\dpl302\\venv\\lib\\site-packages\\keras\\layers\\convolutional\\base_conv.py\", line 290, in call\n      outputs = self.convolution_op(inputs, self.kernel)\n    File \"c:\\users\\nguye\\pycharmprojects\\dpl302\\venv\\lib\\site-packages\\keras\\layers\\convolutional\\base_conv.py\", line 262, in convolution_op\n      return tf.nn.convolution(\nNode: 'sequential_1/conv1d_2/Conv1D/ExpandDims'\nTried to expand dim index -3 for tensor with 1 dimensions.\n\t [[{{node sequential_1/conv1d_2/Conv1D/ExpandDims}}]] [Op:__inference_predict_function_74661]"
     ]
    }
   ],
   "source": [
    "image = 'C:\\\\Users\\\\nguye\\\\PycharmProjects\\\\DPL302\\\\Pose recognition\\\\dataset\\\\Yoga\\\\dandasana\\\\28-0.png'\n",
    "with mp_pose.Pose(static_image_mode = True, min_detection_confidence=0.5) as pose:\n",
    "    while True:\n",
    "        frame = cv.imread(image)\n",
    "\n",
    "        frame.flags.writeable = False\n",
    "        frame = cv.cvtColor(frame, cv.COLOR_BGR2RGB)\n",
    "        results = pose.process(frame)\n",
    "        frame.flags.writeable = True\n",
    "        frame = cv.cvtColor(frame, cv.COLOR_RGB2BGR)\n",
    "\n",
    "        keypoints = np.array([[result.x, result.y, result.z, result.visibility] for result in results.pose_landmarks.landmark]).flatten() if results.pose_landmarks else np.zeros(33*4)\n",
    "        \n",
    "        mp_drawing.draw_landmarks(frame, results.pose_landmarks, mp_pose.POSE_CONNECTIONS)\n",
    "\n",
    "        cv.imshow('kp',frame)\n",
    "        \n",
    "        if cv.waitKey(5) & 0xFF == ord('q'):\n",
    "            break\n",
    "\n",
    "cv.destroyAllWindows()\n",
    "\n"
   ]
  },
  {
   "cell_type": "code",
   "execution_count": null,
   "id": "5e7bba06",
   "metadata": {},
   "outputs": [],
   "source": [
    "img_no = 0\n",
    "with mp_pose.Pose(static_image_mode = True, min_detection_confidence=0.5) as pose:\n",
    "    for pose_actions in poses:\n",
    "        current_pose = pose_actions\n",
    "        pose_path = os.path.join(main_dir,'dataset', label, pose_actions)\n",
    "        pose_actions = np.array(os.listdir(pose_path))\n",
    "        img_no = 0\n",
    "        for img in pose_actions:\n",
    "            img_path = os.path.join(main_dir,'dataset', label, current_pose, img)\n",
    "            frame = cv.imread(img_path)\n",
    "            \n",
    "            try:\n",
    "                frame.flags.writeable = False\n",
    "                frame = cv.cvtColor(frame, cv.COLOR_BGR2RGB)\n",
    "                results = pose.process(frame)\n",
    "                frame.flags.writeable = True\n",
    "                frame = cv.cvtColor(frame, cv.COLOR_RGB2BGR)\n",
    "            except:\n",
    "                print('Error while extracting ', img, 'of', current_pose)\n",
    "                img_no += 1\n",
    "                pass\n",
    "            \n",
    "            keypoints = np.array([[result.x, result.y, result.z, result.visibility] for result in results.pose_landmarks.landmark]).flatten() if results.pose_landmarks else np.zeros(33*4)\n",
    "            \n",
    "            kp_path = os.path.join(main_dir, 'keypoints', current_pose, str(img_no))\n",
    "            np.save(kp_path, keypoints)\n",
    "            img_no += 1\n",
    "                \n",
    "            cv.imshow('Reading', frame)\n",
    "            cv.waitKey(100)\n",
    "\n",
    "\n",
    "cv.destroyAllWindows()"
   ]
  }
 ],
 "metadata": {
  "kernelspec": {
   "display_name": "Python 3 (ipykernel)",
   "language": "python",
   "name": "python3"
  },
  "language_info": {
   "codemirror_mode": {
    "name": "ipython",
    "version": 3
   },
   "file_extension": ".py",
   "mimetype": "text/x-python",
   "name": "python",
   "nbconvert_exporter": "python",
   "pygments_lexer": "ipython3",
   "version": "3.9.7"
  }
 },
 "nbformat": 4,
 "nbformat_minor": 5
}
