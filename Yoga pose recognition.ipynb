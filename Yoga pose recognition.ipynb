{
 "cells": [
  {
   "cell_type": "code",
   "execution_count": 2,
   "id": "893fffae",
   "metadata": {},
   "outputs": [],
   "source": [
    "import cv2 as cv\n",
    "import numpy as np\n",
    "import os\n",
    "from matplotlib import pyplot as plt\n",
    "import time\n",
    "import mediapipe as mp"
   ]
  },
  {
   "cell_type": "code",
   "execution_count": 3,
   "id": "3b5ba9d5",
   "metadata": {},
   "outputs": [],
   "source": [
    "mp_pose = mp.solutions.pose\n",
    "mp_drawing = mp.solutions.drawing_utils"
   ]
  },
  {
   "cell_type": "code",
   "execution_count": 4,
   "id": "6f700755",
   "metadata": {},
   "outputs": [],
   "source": [
    "main_dir = 'C:\\\\Users\\\\nguye\\\\PycharmProjects\\\\DPL302\\\\Pose recognition'"
   ]
  },
  {
   "cell_type": "code",
   "execution_count": 5,
   "id": "4535169e",
   "metadata": {},
   "outputs": [],
   "source": [
    "label = 'Yoga'\n",
    "labels_path = os.path.join(main_dir,'dataset',label)\n",
    "labels = os.listdir(labels_path)"
   ]
  },
  {
   "cell_type": "code",
   "execution_count": 6,
   "id": "e393fd72",
   "metadata": {},
   "outputs": [
    {
     "name": "stdout",
     "output_type": "stream",
     "text": [
      "['adho mukha svanasana' 'adho mukha vriksasana' 'agnistambhasana'\n",
      " 'ananda balasana' 'anantasana' 'anjaneyasana' 'ardha bhekasana'\n",
      " 'ardha chandrasana' 'ardha matsyendrasana' 'ardha pincha mayurasana'\n",
      " 'ardha uttanasana' 'ashtanga namaskara' 'astavakrasana' 'baddha konasana'\n",
      " 'bakasana' 'balasana' 'bhairavasana' 'bharadvajasana i' 'bhekasana'\n",
      " 'bhujangasana' 'bhujapidasana' 'bitilasana' 'camatkarasana'\n",
      " 'chakravakasana' 'chaturanga dandasana' 'dandasana' 'dhanurasana'\n",
      " 'durvasasana' 'dwi pada viparita dandasana' 'eka pada koundinyanasana i'\n",
      " 'eka pada koundinyanasana ii' 'eka pada rajakapotasana'\n",
      " 'eka pada rajakapotasana ii' 'ganda bherundasana' 'garbha pindasana'\n",
      " 'garudasana' 'gomukhasana' 'halasana' 'hanumanasana' 'janu sirsasana'\n",
      " 'kapotasana' 'krounchasana' 'kurmasana' 'lolasana'\n",
      " 'makara adho mukha svanasana' 'makarasana' 'malasana' 'marichyasana i'\n",
      " 'marichyasana iii' 'marjaryasana' 'matsyasana' 'mayurasana'\n",
      " 'natarajasana' 'padangusthasana' 'padmasana' 'parighasana'\n",
      " 'paripurna navasana' 'parivrtta janu sirsasana'\n",
      " 'parivrtta parsvakonasana' 'parivrtta trikonasana' 'parsva bakasana'\n",
      " 'parsvottanasana' 'pasasana' 'paschimottanasana' 'phalakasana'\n",
      " 'pincha mayurasana' 'prasarita padottanasana' 'purvottanasana'\n",
      " 'salabhasana' 'salamba bhujangasana' 'salamba sarvangasana'\n",
      " 'salamba sirsasana' 'savasana' 'setu bandha sarvangasana' 'simhasana'\n",
      " 'sukhasana' 'supta baddha konasana' 'supta matsyendrasana'\n",
      " 'supta padangusthasana' 'supta virasana' 'tadasana' 'tittibhasana'\n",
      " 'tolasana' 'tulasana' 'upavistha konasana' 'urdhva dhanurasana'\n",
      " 'urdhva hastasana' 'urdhva mukha svanasana'\n",
      " 'urdhva prasarita eka padasana' 'ustrasana' 'utkatasana'\n",
      " 'uttana shishosana' 'uttanasana' 'utthita ashwa sanchalanasana'\n",
      " 'utthita hasta padangustasana' 'utthita parsvakonasana'\n",
      " 'utthita trikonasana' 'vajrasana' 'vasisthasana' 'viparita karani'\n",
      " 'virabhadrasana i' 'virabhadrasana ii' 'virabhadrasana iii' 'virasana'\n",
      " 'vriksasana' 'vrischikasana' 'yoganidrasana']\n"
     ]
    }
   ],
   "source": [
    "poses = np.array(labels)\n",
    "print(poses)"
   ]
  },
  {
   "cell_type": "code",
   "execution_count": 27,
   "id": "a64b7425",
   "metadata": {},
   "outputs": [],
   "source": [
    "cap = cv.VideoCapture(0)\n",
    "with mp_pose.Pose(min_detection_confidence=0.5, min_tracking_confidence=0.5) as pose:\n",
    "    while cap.isOpened():\n",
    "        ret, frame = cap.read()\n",
    "\n",
    "        frame.flags.writeable = False\n",
    "        frame = cv.cvtColor(frame, cv.COLOR_BGR2RGB) \n",
    "        results = pose.process(frame)\n",
    "        frame.flags.writeable = True\n",
    "        frame = cv.cvtColor(frame, cv.COLOR_RGB2BGR)\n",
    "        \n",
    "        mp_drawing.draw_landmarks(frame, results.pose_landmarks, mp_pose.POSE_CONNECTIONS)\n",
    "\n",
    "        cv.imshow('OpenCV Feed', cv.flip(frame,1))\n",
    "\n",
    "        if cv.waitKey(10) & 0xFF == ord('q'):\n",
    "            break\n",
    "            \n",
    "    cap.release()\n",
    "    cv2.destroyAllWindows()"
   ]
  },
  {
   "cell_type": "code",
   "execution_count": 141,
   "id": "be5d9853",
   "metadata": {},
   "outputs": [],
   "source": [
    "for pose_action in poses:\n",
    "    try: \n",
    "        os.makedirs(os.path.join(main_dir, 'keypoints',pose_action))\n",
    "    except:\n",
    "        pass"
   ]
  },
  {
   "cell_type": "code",
   "execution_count": 142,
   "id": "6956a6a8",
   "metadata": {
    "scrolled": true
   },
   "outputs": [],
   "source": [
    "img_no = 0\n",
    "with mp_pose.Pose(static_image_mode = True, min_detection_confidence=0.5) as pose:\n",
    "    for pose_actions in poses:\n",
    "        current_pose = pose_actions\n",
    "        pose_path = os.path.join(main_dir,'dataset', label, pose_actions)\n",
    "        pose_actions = np.array(os.listdir(pose_path))\n",
    "        img_no = 0\n",
    "        for img in pose_actions:\n",
    "            img_path = os.path.join(main_dir,'dataset', label, current_pose, img)\n",
    "            frame = cv.imread(img_path)\n",
    "            \n",
    "            try:\n",
    "                frame.flags.writeable = False\n",
    "                frame = cv.cvtColor(frame, cv.COLOR_BGR2RGB)\n",
    "                results = pose.process(frame)\n",
    "                frame.flags.writeable = True\n",
    "                frame = cv.cvtColor(frame, cv.COLOR_RGB2BGR)\n",
    "            except:\n",
    "                print('Error while extracting ', img, 'of', current_pose)\n",
    "                img_no += 1\n",
    "                pass\n",
    "            \n",
    "            keypoints = np.array([[result.x, result.y, result.z, result.visibility] for result in results.pose_landmarks.landmark]).flatten()\n",
    "            \n",
    "            kp_path = os.path.join(main_dir, 'keypoints', current_pose, str(img_no))\n",
    "            np.save(kp_path, keypoints)\n",
    "            img_no += 1\n",
    "                \n",
    "            cv.imshow('Reading', frame)\n",
    "            cv.waitKey(100)\n",
    "\n",
    "\n",
    "cv.destroyAllWindows()"
   ]
  },
  {
   "cell_type": "code",
   "execution_count": 7,
   "id": "1b8423b1",
   "metadata": {},
   "outputs": [],
   "source": [
    "from sklearn.model_selection import train_test_split\n",
    "from tensorflow.keras.utils import to_categorical"
   ]
  },
  {
   "cell_type": "code",
   "execution_count": 8,
   "id": "cf158a90",
   "metadata": {},
   "outputs": [],
   "source": [
    "label_map = {label:num for num, label in enumerate(poses)}"
   ]
  },
  {
   "cell_type": "code",
   "execution_count": 9,
   "id": "2b0120e1",
   "metadata": {},
   "outputs": [
    {
     "data": {
      "text/plain": [
       "{'adho mukha svanasana': 0,\n",
       " 'adho mukha vriksasana': 1,\n",
       " 'agnistambhasana': 2,\n",
       " 'ananda balasana': 3,\n",
       " 'anantasana': 4,\n",
       " 'anjaneyasana': 5,\n",
       " 'ardha bhekasana': 6,\n",
       " 'ardha chandrasana': 7,\n",
       " 'ardha matsyendrasana': 8,\n",
       " 'ardha pincha mayurasana': 9,\n",
       " 'ardha uttanasana': 10,\n",
       " 'ashtanga namaskara': 11,\n",
       " 'astavakrasana': 12,\n",
       " 'baddha konasana': 13,\n",
       " 'bakasana': 14,\n",
       " 'balasana': 15,\n",
       " 'bhairavasana': 16,\n",
       " 'bharadvajasana i': 17,\n",
       " 'bhekasana': 18,\n",
       " 'bhujangasana': 19,\n",
       " 'bhujapidasana': 20,\n",
       " 'bitilasana': 21,\n",
       " 'camatkarasana': 22,\n",
       " 'chakravakasana': 23,\n",
       " 'chaturanga dandasana': 24,\n",
       " 'dandasana': 25,\n",
       " 'dhanurasana': 26,\n",
       " 'durvasasana': 27,\n",
       " 'dwi pada viparita dandasana': 28,\n",
       " 'eka pada koundinyanasana i': 29,\n",
       " 'eka pada koundinyanasana ii': 30,\n",
       " 'eka pada rajakapotasana': 31,\n",
       " 'eka pada rajakapotasana ii': 32,\n",
       " 'ganda bherundasana': 33,\n",
       " 'garbha pindasana': 34,\n",
       " 'garudasana': 35,\n",
       " 'gomukhasana': 36,\n",
       " 'halasana': 37,\n",
       " 'hanumanasana': 38,\n",
       " 'janu sirsasana': 39,\n",
       " 'kapotasana': 40,\n",
       " 'krounchasana': 41,\n",
       " 'kurmasana': 42,\n",
       " 'lolasana': 43,\n",
       " 'makara adho mukha svanasana': 44,\n",
       " 'makarasana': 45,\n",
       " 'malasana': 46,\n",
       " 'marichyasana i': 47,\n",
       " 'marichyasana iii': 48,\n",
       " 'marjaryasana': 49,\n",
       " 'matsyasana': 50,\n",
       " 'mayurasana': 51,\n",
       " 'natarajasana': 52,\n",
       " 'padangusthasana': 53,\n",
       " 'padmasana': 54,\n",
       " 'parighasana': 55,\n",
       " 'paripurna navasana': 56,\n",
       " 'parivrtta janu sirsasana': 57,\n",
       " 'parivrtta parsvakonasana': 58,\n",
       " 'parivrtta trikonasana': 59,\n",
       " 'parsva bakasana': 60,\n",
       " 'parsvottanasana': 61,\n",
       " 'pasasana': 62,\n",
       " 'paschimottanasana': 63,\n",
       " 'phalakasana': 64,\n",
       " 'pincha mayurasana': 65,\n",
       " 'prasarita padottanasana': 66,\n",
       " 'purvottanasana': 67,\n",
       " 'salabhasana': 68,\n",
       " 'salamba bhujangasana': 69,\n",
       " 'salamba sarvangasana': 70,\n",
       " 'salamba sirsasana': 71,\n",
       " 'savasana': 72,\n",
       " 'setu bandha sarvangasana': 73,\n",
       " 'simhasana': 74,\n",
       " 'sukhasana': 75,\n",
       " 'supta baddha konasana': 76,\n",
       " 'supta matsyendrasana': 77,\n",
       " 'supta padangusthasana': 78,\n",
       " 'supta virasana': 79,\n",
       " 'tadasana': 80,\n",
       " 'tittibhasana': 81,\n",
       " 'tolasana': 82,\n",
       " 'tulasana': 83,\n",
       " 'upavistha konasana': 84,\n",
       " 'urdhva dhanurasana': 85,\n",
       " 'urdhva hastasana': 86,\n",
       " 'urdhva mukha svanasana': 87,\n",
       " 'urdhva prasarita eka padasana': 88,\n",
       " 'ustrasana': 89,\n",
       " 'utkatasana': 90,\n",
       " 'uttana shishosana': 91,\n",
       " 'uttanasana': 92,\n",
       " 'utthita ashwa sanchalanasana': 93,\n",
       " 'utthita hasta padangustasana': 94,\n",
       " 'utthita parsvakonasana': 95,\n",
       " 'utthita trikonasana': 96,\n",
       " 'vajrasana': 97,\n",
       " 'vasisthasana': 98,\n",
       " 'viparita karani': 99,\n",
       " 'virabhadrasana i': 100,\n",
       " 'virabhadrasana ii': 101,\n",
       " 'virabhadrasana iii': 102,\n",
       " 'virasana': 103,\n",
       " 'vriksasana': 104,\n",
       " 'vrischikasana': 105,\n",
       " 'yoganidrasana': 106}"
      ]
     },
     "execution_count": 9,
     "metadata": {},
     "output_type": "execute_result"
    }
   ],
   "source": [
    "label_map"
   ]
  },
  {
   "cell_type": "code",
   "execution_count": 34,
   "id": "3d48261f",
   "metadata": {},
   "outputs": [],
   "source": [
    "poses_kp, labels_kp = [], []\n",
    "for pose_action in poses:\n",
    "    pose_path = os.path.join(main_dir, 'keypoints', pose_action)\n",
    "    pose_count = len(os.listdir(pose_path))\n",
    "    for pose_kp in range(pose_count):\n",
    "        keypoints = np.load(os.path.join(main_dir, 'keypoints', pose_action,'{}.npy'.format(pose_kp)))\n",
    "        poses_kp.append(keypoints)\n",
    "        labels_kp.append(label_map[pose_action])\n",
    "    "
   ]
  },
  {
   "cell_type": "code",
   "execution_count": 35,
   "id": "4a0904e5",
   "metadata": {},
   "outputs": [
    {
     "data": {
      "text/plain": [
       "(5991, 132)"
      ]
     },
     "execution_count": 35,
     "metadata": {},
     "output_type": "execute_result"
    }
   ],
   "source": [
    "np.array(poses_kp).shape"
   ]
  },
  {
   "cell_type": "code",
   "execution_count": 36,
   "id": "b3467558",
   "metadata": {},
   "outputs": [
    {
     "data": {
      "text/plain": [
       "(5991,)"
      ]
     },
     "execution_count": 36,
     "metadata": {},
     "output_type": "execute_result"
    }
   ],
   "source": [
    "np.array(labels_kp).shape"
   ]
  },
  {
   "cell_type": "code",
   "execution_count": 37,
   "id": "411a513f",
   "metadata": {},
   "outputs": [
    {
     "data": {
      "text/plain": [
       "(5991, 132)"
      ]
     },
     "execution_count": 37,
     "metadata": {},
     "output_type": "execute_result"
    }
   ],
   "source": [
    "X = np.array(poses_kp)\n",
    "X.shape"
   ]
  },
  {
   "cell_type": "code",
   "execution_count": 38,
   "id": "990639dd",
   "metadata": {},
   "outputs": [
    {
     "data": {
      "text/plain": [
       "(5991, 107)"
      ]
     },
     "execution_count": 38,
     "metadata": {},
     "output_type": "execute_result"
    }
   ],
   "source": [
    "y = to_categorical(labels_kp).astype(int)\n",
    "y.shape"
   ]
  },
  {
   "cell_type": "code",
   "execution_count": 39,
   "id": "8ebf1e1e",
   "metadata": {},
   "outputs": [],
   "source": [
    "X_train, X_test, y_train, y_test = train_test_split(X, y, test_size = 0.05)"
   ]
  },
  {
   "cell_type": "code",
   "execution_count": 45,
   "id": "9d869898",
   "metadata": {},
   "outputs": [],
   "source": [
    "from keras.models import Sequential\n",
    "from keras.layers import Dense\n",
    "from keras.layers import Flatten\n",
    "from keras.layers import Dropout\n",
    "from keras.layers.convolutional import Conv1D\n",
    "from keras.layers.convolutional import MaxPooling1D"
   ]
  },
  {
   "cell_type": "code",
   "execution_count": 46,
   "id": "062b356d",
   "metadata": {},
   "outputs": [],
   "source": [
    "model = Sequential()\n",
    "model.add(Conv1D(filters = 64, kernel_size = 3, activation='relu',input_shape=(132,1)))\n",
    "model.add(Conv1D(filters = 64, kernel_size = 3, activation='relu'))\n",
    "model.add(MaxPooling1D(pool_size = 2))\n",
    "model.add(Flatten())\n",
    "model.add(Dense(128, activation= 'relu'))\n",
    "model.add(Dense(107, activation= 'softmax'))"
   ]
  },
  {
   "cell_type": "code",
   "execution_count": 47,
   "id": "3b06e9eb",
   "metadata": {},
   "outputs": [],
   "source": [
    "model.compile(loss='categorical_crossentropy', optimizer ='adam', metrics = ['accuracy'])"
   ]
  },
  {
   "cell_type": "code",
   "execution_count": 48,
   "id": "b4299e09",
   "metadata": {},
   "outputs": [
    {
     "name": "stdout",
     "output_type": "stream",
     "text": [
      "Model: \"sequential_2\"\n",
      "_________________________________________________________________\n",
      " Layer (type)                Output Shape              Param #   \n",
      "=================================================================\n",
      " conv1d_4 (Conv1D)           (None, 130, 64)           256       \n",
      "                                                                 \n",
      " conv1d_5 (Conv1D)           (None, 128, 64)           12352     \n",
      "                                                                 \n",
      " max_pooling1d_2 (MaxPooling  (None, 64, 64)           0         \n",
      " 1D)                                                             \n",
      "                                                                 \n",
      " flatten_2 (Flatten)         (None, 4096)              0         \n",
      "                                                                 \n",
      " dense_4 (Dense)             (None, 128)               524416    \n",
      "                                                                 \n",
      " dense_5 (Dense)             (None, 107)               13803     \n",
      "                                                                 \n",
      "=================================================================\n",
      "Total params: 550,827\n",
      "Trainable params: 550,827\n",
      "Non-trainable params: 0\n",
      "_________________________________________________________________\n"
     ]
    }
   ],
   "source": [
    "model.summary()"
   ]
  },
  {
   "cell_type": "code",
   "execution_count": 49,
   "id": "2af52212",
   "metadata": {},
   "outputs": [
    {
     "name": "stdout",
     "output_type": "stream",
     "text": [
      "Epoch 1/50\n",
      "178/178 [==============================] - 6s 27ms/step - loss: 4.0104 - accuracy: 0.1093\n",
      "Epoch 2/50\n",
      "178/178 [==============================] - 5s 28ms/step - loss: 2.3068 - accuracy: 0.4112\n",
      "Epoch 3/50\n",
      "178/178 [==============================] - 5s 27ms/step - loss: 1.7197 - accuracy: 0.5435\n",
      "Epoch 4/50\n",
      "178/178 [==============================] - 5s 29ms/step - loss: 1.4573 - accuracy: 0.6055\n",
      "Epoch 5/50\n",
      "178/178 [==============================] - 5s 29ms/step - loss: 1.2941 - accuracy: 0.6575\n",
      "Epoch 6/50\n",
      "178/178 [==============================] - 5s 28ms/step - loss: 1.1915 - accuracy: 0.6763\n",
      "Epoch 7/50\n",
      "178/178 [==============================] - 5s 29ms/step - loss: 1.0969 - accuracy: 0.6944\n",
      "Epoch 8/50\n",
      "178/178 [==============================] - 5s 30ms/step - loss: 1.0276 - accuracy: 0.7164\n",
      "Epoch 9/50\n",
      "178/178 [==============================] - 5s 29ms/step - loss: 0.9752 - accuracy: 0.7254\n",
      "Epoch 10/50\n",
      "178/178 [==============================] - 5s 29ms/step - loss: 0.9211 - accuracy: 0.7403\n",
      "Epoch 11/50\n",
      "178/178 [==============================] - 5s 30ms/step - loss: 0.8676 - accuracy: 0.7507\n",
      "Epoch 12/50\n",
      "178/178 [==============================] - 5s 30ms/step - loss: 0.8375 - accuracy: 0.7600\n",
      "Epoch 13/50\n",
      "178/178 [==============================] - 5s 30ms/step - loss: 0.8019 - accuracy: 0.7679\n",
      "Epoch 14/50\n",
      "178/178 [==============================] - 5s 30ms/step - loss: 0.7479 - accuracy: 0.7853\n",
      "Epoch 15/50\n",
      "178/178 [==============================] - 5s 31ms/step - loss: 0.7268 - accuracy: 0.7907\n",
      "Epoch 16/50\n",
      "178/178 [==============================] - 5s 30ms/step - loss: 0.7082 - accuracy: 0.7967\n",
      "Epoch 17/50\n",
      "178/178 [==============================] - 5s 30ms/step - loss: 0.6776 - accuracy: 0.8065\n",
      "Epoch 18/50\n",
      "178/178 [==============================] - 5s 31ms/step - loss: 0.6631 - accuracy: 0.8079\n",
      "Epoch 19/50\n",
      "178/178 [==============================] - 5s 30ms/step - loss: 0.6280 - accuracy: 0.8211\n",
      "Epoch 20/50\n",
      "178/178 [==============================] - 5s 30ms/step - loss: 0.6150 - accuracy: 0.8204\n",
      "Epoch 21/50\n",
      "178/178 [==============================] - 6s 35ms/step - loss: 0.6045 - accuracy: 0.8232\n",
      "Epoch 22/50\n",
      "178/178 [==============================] - 6s 33ms/step - loss: 0.5954 - accuracy: 0.8281\n",
      "Epoch 23/50\n",
      "178/178 [==============================] - 6s 33ms/step - loss: 0.5915 - accuracy: 0.8348\n",
      "Epoch 24/50\n",
      "178/178 [==============================] - 6s 31ms/step - loss: 0.5628 - accuracy: 0.8406\n",
      "Epoch 25/50\n",
      "178/178 [==============================] - 6s 32ms/step - loss: 0.5628 - accuracy: 0.8431\n",
      "Epoch 26/50\n",
      "178/178 [==============================] - 6s 33ms/step - loss: 0.5456 - accuracy: 0.8459\n",
      "Epoch 27/50\n",
      "178/178 [==============================] - 5s 30ms/step - loss: 0.5270 - accuracy: 0.8549\n",
      "Epoch 28/50\n",
      "178/178 [==============================] - 6s 32ms/step - loss: 0.5430 - accuracy: 0.8447\n",
      "Epoch 29/50\n",
      "178/178 [==============================] - 6s 32ms/step - loss: 0.5230 - accuracy: 0.8536\n",
      "Epoch 30/50\n",
      "178/178 [==============================] - 6s 32ms/step - loss: 0.5195 - accuracy: 0.8571\n",
      "Epoch 31/50\n",
      "178/178 [==============================] - 6s 33ms/step - loss: 0.5245 - accuracy: 0.8491\n",
      "Epoch 32/50\n",
      "178/178 [==============================] - 6s 31ms/step - loss: 0.4967 - accuracy: 0.8621\n",
      "Epoch 33/50\n",
      "178/178 [==============================] - 6s 32ms/step - loss: 0.5045 - accuracy: 0.8636\n",
      "Epoch 34/50\n",
      "178/178 [==============================] - 6s 32ms/step - loss: 0.4984 - accuracy: 0.8608\n",
      "Epoch 35/50\n",
      "178/178 [==============================] - 6s 32ms/step - loss: 0.4975 - accuracy: 0.8643\n",
      "Epoch 36/50\n",
      "178/178 [==============================] - 6s 35ms/step - loss: 0.5008 - accuracy: 0.8617\n",
      "Epoch 37/50\n",
      "178/178 [==============================] - 6s 33ms/step - loss: 0.4849 - accuracy: 0.8631\n",
      "Epoch 38/50\n",
      "178/178 [==============================] - 6s 33ms/step - loss: 0.4897 - accuracy: 0.8659\n",
      "Epoch 39/50\n",
      "178/178 [==============================] - 6s 33ms/step - loss: 0.4817 - accuracy: 0.8708\n",
      "Epoch 40/50\n",
      "178/178 [==============================] - 6s 34ms/step - loss: 0.4626 - accuracy: 0.8756\n",
      "Epoch 41/50\n",
      "178/178 [==============================] - 6s 33ms/step - loss: 0.4776 - accuracy: 0.8721\n",
      "Epoch 42/50\n",
      "178/178 [==============================] - 6s 33ms/step - loss: 0.4674 - accuracy: 0.8761\n",
      "Epoch 43/50\n",
      "178/178 [==============================] - 7s 37ms/step - loss: 0.4819 - accuracy: 0.8665\n",
      "Epoch 44/50\n",
      "178/178 [==============================] - 7s 39ms/step - loss: 0.4746 - accuracy: 0.8682\n",
      "Epoch 45/50\n",
      "178/178 [==============================] - 6s 35ms/step - loss: 0.4654 - accuracy: 0.8693\n",
      "Epoch 46/50\n",
      "178/178 [==============================] - 6s 33ms/step - loss: 0.4544 - accuracy: 0.8765\n",
      "Epoch 47/50\n",
      "178/178 [==============================] - 6s 34ms/step - loss: 0.4545 - accuracy: 0.8777\n",
      "Epoch 48/50\n",
      "178/178 [==============================] - 6s 33ms/step - loss: 0.4646 - accuracy: 0.8752\n",
      "Epoch 49/50\n",
      "178/178 [==============================] - 6s 35ms/step - loss: 0.4773 - accuracy: 0.8694\n",
      "Epoch 50/50\n",
      "178/178 [==============================] - 6s 32ms/step - loss: 0.4558 - accuracy: 0.8754\n"
     ]
    },
    {
     "data": {
      "text/plain": [
       "<keras.callbacks.History at 0x20061ce70d0>"
      ]
     },
     "execution_count": 49,
     "metadata": {},
     "output_type": "execute_result"
    }
   ],
   "source": [
    "model.fit(X_train, y_train, epochs = 35, verbose = True)"
   ]
  },
  {
   "cell_type": "code",
   "execution_count": 54,
   "id": "9f37d3a1",
   "metadata": {},
   "outputs": [],
   "source": [
    "model.save('model.h5')"
   ]
  },
  {
   "cell_type": "code",
   "execution_count": 55,
   "id": "c9870e20",
   "metadata": {},
   "outputs": [],
   "source": [
    "model.load_weights('model.h5')"
   ]
  },
  {
   "cell_type": "code",
   "execution_count": 50,
   "id": "0c01087a",
   "metadata": {},
   "outputs": [
    {
     "name": "stdout",
     "output_type": "stream",
     "text": [
      "10/10 [==============================] - 0s 7ms/step\n",
      "[65, 104, 60, 63, 79, 5, 59, 10, 106, 98, 33, 77, 24, 36, 78, 8, 84, 8, 40, 22, 31, 103, 98, 54, 62, 67, 73, 34, 2, 62, 85, 60, 100, 63, 10, 8, 15, 26, 32, 64, 105, 50, 7, 61, 77, 46, 100, 77, 19, 101, 45, 43, 85, 79, 1, 7, 54, 105, 69, 8, 32, 41, 95, 78, 45, 12, 59, 85, 81, 41, 73, 91, 51, 60, 29, 8, 68, 23, 87, 68, 85, 70, 47, 24, 35, 85, 51, 51, 33, 68, 54, 54, 3, 54, 103, 23, 85, 7, 93, 105, 67, 41, 3, 41, 59, 97, 81, 54, 66, 16, 25, 1, 50, 85, 3, 31, 91, 93, 14, 47, 1, 10, 84, 30, 103, 73, 44, 82, 66, 56, 85, 8, 26, 24, 21, 6, 88, 60, 66, 82, 27, 89, 35, 48, 99, 35, 80, 2, 100, 66, 91, 65, 102, 85, 5, 26, 33, 98, 13, 21, 21, 20, 6, 0, 57, 55, 29, 44, 63, 81, 16, 29, 28, 72, 80, 22, 85, 12, 39, 36, 27, 74, 85, 3, 100, 83, 33, 70, 25, 92, 69, 36, 79, 54, 44, 56, 23, 72, 87, 2, 72, 71, 97, 50, 40, 87, 76, 63, 32, 68, 95, 31, 93, 97, 12, 73, 85, 103, 42, 68, 87, 21, 74, 69, 36, 78, 29, 21, 96, 26, 26, 59, 100, 31, 10, 85, 5, 68, 61, 45, 89, 60, 101, 35, 4, 26, 10, 83, 88, 24, 98, 103, 46, 96, 77, 17, 85, 8, 27, 29, 97, 9, 99, 8, 39, 50, 85, 9, 44, 94, 26, 97, 92, 12, 68, 85, 98, 85, 40, 24, 76, 21, 63, 61, 81, 85, 77, 7, 78, 38, 81, 103, 71, 5, 37, 68, 12, 98, 62, 23]\n"
     ]
    }
   ],
   "source": [
    "pred = model.predict(X_test)\n",
    "y_pred = pred.argmax(axis = -1).tolist()\n",
    "print(y_pred)"
   ]
  },
  {
   "cell_type": "code",
   "execution_count": 51,
   "id": "29286bd7",
   "metadata": {},
   "outputs": [
    {
     "name": "stdout",
     "output_type": "stream",
     "text": [
      "[105, 104, 60, 63, 79, 5, 59, 10, 37, 98, 33, 77, 24, 36, 78, 8, 84, 48, 40, 22, 31, 103, 98, 2, 62, 67, 73, 34, 17, 62, 63, 20, 52, 63, 12, 8, 15, 26, 32, 64, 105, 50, 7, 61, 72, 51, 93, 91, 19, 101, 45, 43, 54, 79, 71, 7, 54, 105, 69, 8, 77, 41, 95, 78, 45, 12, 59, 27, 47, 41, 70, 91, 51, 60, 30, 17, 19, 21, 19, 12, 85, 70, 47, 24, 35, 16, 51, 51, 33, 68, 54, 54, 99, 54, 97, 23, 37, 7, 93, 105, 73, 41, 15, 41, 96, 97, 81, 75, 88, 16, 56, 1, 50, 7, 3, 32, 91, 8, 14, 47, 1, 20, 84, 29, 97, 73, 64, 54, 66, 56, 16, 47, 26, 24, 74, 6, 88, 60, 66, 13, 27, 89, 35, 48, 99, 35, 80, 2, 100, 66, 91, 65, 102, 85, 5, 26, 71, 98, 13, 23, 49, 20, 41, 0, 57, 55, 30, 67, 39, 81, 16, 30, 28, 12, 80, 22, 85, 12, 39, 36, 27, 74, 43, 15, 100, 20, 33, 70, 103, 29, 87, 36, 79, 74, 44, 56, 23, 72, 87, 75, 72, 71, 17, 50, 89, 87, 76, 63, 32, 68, 96, 32, 93, 97, 12, 73, 60, 97, 42, 24, 87, 21, 74, 69, 36, 78, 88, 21, 59, 26, 19, 59, 100, 31, 10, 91, 5, 68, 61, 45, 89, 42, 102, 35, 78, 26, 66, 2, 88, 24, 98, 103, 46, 96, 77, 17, 9, 8, 27, 30, 97, 9, 99, 8, 57, 50, 85, 9, 44, 94, 26, 103, 92, 12, 68, 91, 98, 35, 40, 74, 76, 21, 63, 10, 81, 105, 77, 7, 78, 38, 81, 41, 71, 5, 37, 68, 60, 98, 62, 21]\n"
     ]
    }
   ],
   "source": [
    "y_test = y_test.argmax(axis = -1).tolist()\n",
    "print(y_test)"
   ]
  },
  {
   "cell_type": "code",
   "execution_count": 52,
   "id": "70ad23a5",
   "metadata": {},
   "outputs": [],
   "source": [
    "from sklearn.metrics import accuracy_score"
   ]
  },
  {
   "cell_type": "code",
   "execution_count": 53,
   "id": "040bfff6",
   "metadata": {},
   "outputs": [
    {
     "data": {
      "text/plain": [
       "0.6933333333333334"
      ]
     },
     "execution_count": 53,
     "metadata": {},
     "output_type": "execute_result"
    }
   ],
   "source": [
    "accuracy_score(y_test, y_pred)"
   ]
  },
  {
   "cell_type": "code",
   "execution_count": 24,
   "id": "5e6cac0d",
   "metadata": {},
   "outputs": [
    {
     "ename": "InvalidArgumentError",
     "evalue": "Graph execution error:\n\nDetected at node 'sequential/conv1d/Conv1D/ExpandDims' defined at (most recent call last):\n    File \"C:\\Users\\nguye\\AppData\\Local\\Programs\\Python\\Python39\\lib\\runpy.py\", line 197, in _run_module_as_main\n      return _run_code(code, main_globals, None,\n    File \"C:\\Users\\nguye\\AppData\\Local\\Programs\\Python\\Python39\\lib\\runpy.py\", line 87, in _run_code\n      exec(code, run_globals)\n    File \"c:\\users\\nguye\\pycharmprojects\\dpl302\\venv\\lib\\site-packages\\ipykernel_launcher.py\", line 17, in <module>\n      app.launch_new_instance()\n    File \"c:\\users\\nguye\\pycharmprojects\\dpl302\\venv\\lib\\site-packages\\traitlets\\config\\application.py\", line 1043, in launch_instance\n      app.start()\n    File \"c:\\users\\nguye\\pycharmprojects\\dpl302\\venv\\lib\\site-packages\\ipykernel\\kernelapp.py\", line 725, in start\n      self.io_loop.start()\n    File \"c:\\users\\nguye\\pycharmprojects\\dpl302\\venv\\lib\\site-packages\\tornado\\platform\\asyncio.py\", line 195, in start\n      self.asyncio_loop.run_forever()\n    File \"C:\\Users\\nguye\\AppData\\Local\\Programs\\Python\\Python39\\lib\\asyncio\\base_events.py\", line 596, in run_forever\n      self._run_once()\n    File \"C:\\Users\\nguye\\AppData\\Local\\Programs\\Python\\Python39\\lib\\asyncio\\base_events.py\", line 1890, in _run_once\n      handle._run()\n    File \"C:\\Users\\nguye\\AppData\\Local\\Programs\\Python\\Python39\\lib\\asyncio\\events.py\", line 80, in _run\n      self._context.run(self._callback, *self._args)\n    File \"c:\\users\\nguye\\pycharmprojects\\dpl302\\venv\\lib\\site-packages\\ipykernel\\kernelbase.py\", line 513, in dispatch_queue\n      await self.process_one()\n    File \"c:\\users\\nguye\\pycharmprojects\\dpl302\\venv\\lib\\site-packages\\ipykernel\\kernelbase.py\", line 502, in process_one\n      await dispatch(*args)\n    File \"c:\\users\\nguye\\pycharmprojects\\dpl302\\venv\\lib\\site-packages\\ipykernel\\kernelbase.py\", line 409, in dispatch_shell\n      await result\n    File \"c:\\users\\nguye\\pycharmprojects\\dpl302\\venv\\lib\\site-packages\\ipykernel\\kernelbase.py\", line 729, in execute_request\n      reply_content = await reply_content\n    File \"c:\\users\\nguye\\pycharmprojects\\dpl302\\venv\\lib\\site-packages\\ipykernel\\ipkernel.py\", line 422, in do_execute\n      res = shell.run_cell(\n    File \"c:\\users\\nguye\\pycharmprojects\\dpl302\\venv\\lib\\site-packages\\ipykernel\\zmqshell.py\", line 540, in run_cell\n      return super().run_cell(*args, **kwargs)\n    File \"c:\\users\\nguye\\pycharmprojects\\dpl302\\venv\\lib\\site-packages\\IPython\\core\\interactiveshell.py\", line 3009, in run_cell\n      result = self._run_cell(\n    File \"c:\\users\\nguye\\pycharmprojects\\dpl302\\venv\\lib\\site-packages\\IPython\\core\\interactiveshell.py\", line 3064, in _run_cell\n      result = runner(coro)\n    File \"c:\\users\\nguye\\pycharmprojects\\dpl302\\venv\\lib\\site-packages\\IPython\\core\\async_helpers.py\", line 129, in _pseudo_sync_runner\n      coro.send(None)\n    File \"c:\\users\\nguye\\pycharmprojects\\dpl302\\venv\\lib\\site-packages\\IPython\\core\\interactiveshell.py\", line 3269, in run_cell_async\n      has_raised = await self.run_ast_nodes(code_ast.body, cell_name,\n    File \"c:\\users\\nguye\\pycharmprojects\\dpl302\\venv\\lib\\site-packages\\IPython\\core\\interactiveshell.py\", line 3448, in run_ast_nodes\n      if await self.run_code(code, result, async_=asy):\n    File \"c:\\users\\nguye\\pycharmprojects\\dpl302\\venv\\lib\\site-packages\\IPython\\core\\interactiveshell.py\", line 3508, in run_code\n      exec(code_obj, self.user_global_ns, self.user_ns)\n    File \"C:\\Users\\nguye\\AppData\\Local\\Temp\\ipykernel_7908\\1921889725.py\", line 16, in <module>\n      pred = model.predict(keypoints)\n    File \"c:\\users\\nguye\\pycharmprojects\\dpl302\\venv\\lib\\site-packages\\keras\\utils\\traceback_utils.py\", line 65, in error_handler\n      return fn(*args, **kwargs)\n    File \"c:\\users\\nguye\\pycharmprojects\\dpl302\\venv\\lib\\site-packages\\keras\\engine\\training.py\", line 2382, in predict\n      tmp_batch_outputs = self.predict_function(iterator)\n    File \"c:\\users\\nguye\\pycharmprojects\\dpl302\\venv\\lib\\site-packages\\keras\\engine\\training.py\", line 2169, in predict_function\n      return step_function(self, iterator)\n    File \"c:\\users\\nguye\\pycharmprojects\\dpl302\\venv\\lib\\site-packages\\keras\\engine\\training.py\", line 2155, in step_function\n      outputs = model.distribute_strategy.run(run_step, args=(data,))\n    File \"c:\\users\\nguye\\pycharmprojects\\dpl302\\venv\\lib\\site-packages\\keras\\engine\\training.py\", line 2143, in run_step\n      outputs = model.predict_step(data)\n    File \"c:\\users\\nguye\\pycharmprojects\\dpl302\\venv\\lib\\site-packages\\keras\\engine\\training.py\", line 2111, in predict_step\n      return self(x, training=False)\n    File \"c:\\users\\nguye\\pycharmprojects\\dpl302\\venv\\lib\\site-packages\\keras\\utils\\traceback_utils.py\", line 65, in error_handler\n      return fn(*args, **kwargs)\n    File \"c:\\users\\nguye\\pycharmprojects\\dpl302\\venv\\lib\\site-packages\\keras\\engine\\training.py\", line 558, in __call__\n      return super().__call__(*args, **kwargs)\n    File \"c:\\users\\nguye\\pycharmprojects\\dpl302\\venv\\lib\\site-packages\\keras\\utils\\traceback_utils.py\", line 65, in error_handler\n      return fn(*args, **kwargs)\n    File \"c:\\users\\nguye\\pycharmprojects\\dpl302\\venv\\lib\\site-packages\\keras\\engine\\base_layer.py\", line 1145, in __call__\n      outputs = call_fn(inputs, *args, **kwargs)\n    File \"c:\\users\\nguye\\pycharmprojects\\dpl302\\venv\\lib\\site-packages\\keras\\utils\\traceback_utils.py\", line 96, in error_handler\n      return fn(*args, **kwargs)\n    File \"c:\\users\\nguye\\pycharmprojects\\dpl302\\venv\\lib\\site-packages\\keras\\engine\\sequential.py\", line 412, in call\n      return super().call(inputs, training=training, mask=mask)\n    File \"c:\\users\\nguye\\pycharmprojects\\dpl302\\venv\\lib\\site-packages\\keras\\engine\\functional.py\", line 512, in call\n      return self._run_internal_graph(inputs, training=training, mask=mask)\n    File \"c:\\users\\nguye\\pycharmprojects\\dpl302\\venv\\lib\\site-packages\\keras\\engine\\functional.py\", line 669, in _run_internal_graph\n      outputs = node.layer(*args, **kwargs)\n    File \"c:\\users\\nguye\\pycharmprojects\\dpl302\\venv\\lib\\site-packages\\keras\\utils\\traceback_utils.py\", line 65, in error_handler\n      return fn(*args, **kwargs)\n    File \"c:\\users\\nguye\\pycharmprojects\\dpl302\\venv\\lib\\site-packages\\keras\\engine\\base_layer.py\", line 1145, in __call__\n      outputs = call_fn(inputs, *args, **kwargs)\n    File \"c:\\users\\nguye\\pycharmprojects\\dpl302\\venv\\lib\\site-packages\\keras\\utils\\traceback_utils.py\", line 96, in error_handler\n      return fn(*args, **kwargs)\n    File \"c:\\users\\nguye\\pycharmprojects\\dpl302\\venv\\lib\\site-packages\\keras\\layers\\convolutional\\base_conv.py\", line 290, in call\n      outputs = self.convolution_op(inputs, self.kernel)\n    File \"c:\\users\\nguye\\pycharmprojects\\dpl302\\venv\\lib\\site-packages\\keras\\layers\\convolutional\\base_conv.py\", line 262, in convolution_op\n      return tf.nn.convolution(\nNode: 'sequential/conv1d/Conv1D/ExpandDims'\nTried to expand dim index -3 for tensor with 1 dimensions.\n\t [[{{node sequential/conv1d/Conv1D/ExpandDims}}]] [Op:__inference_predict_function_74215]",
     "output_type": "error",
     "traceback": [
      "\u001b[1;31m---------------------------------------------------------------------------\u001b[0m",
      "\u001b[1;31mInvalidArgumentError\u001b[0m                      Traceback (most recent call last)",
      "Cell \u001b[1;32mIn[24], line 16\u001b[0m\n\u001b[0;32m     12\u001b[0m keypoints \u001b[38;5;241m=\u001b[39m np\u001b[38;5;241m.\u001b[39marray([[result\u001b[38;5;241m.\u001b[39mx, result\u001b[38;5;241m.\u001b[39my, result\u001b[38;5;241m.\u001b[39mz, result\u001b[38;5;241m.\u001b[39mvisibility] \u001b[38;5;28;01mfor\u001b[39;00m result \u001b[38;5;129;01min\u001b[39;00m results\u001b[38;5;241m.\u001b[39mpose_landmarks\u001b[38;5;241m.\u001b[39mlandmark])\u001b[38;5;241m.\u001b[39mflatten() \u001b[38;5;28;01mif\u001b[39;00m results\u001b[38;5;241m.\u001b[39mpose_landmarks \u001b[38;5;28;01melse\u001b[39;00m np\u001b[38;5;241m.\u001b[39mzeros(\u001b[38;5;241m33\u001b[39m\u001b[38;5;241m*\u001b[39m\u001b[38;5;241m4\u001b[39m)\n\u001b[0;32m     14\u001b[0m mp_drawing\u001b[38;5;241m.\u001b[39mdraw_landmarks(frame, results\u001b[38;5;241m.\u001b[39mpose_landmarks, mp_pose\u001b[38;5;241m.\u001b[39mPOSE_CONNECTIONS)\n\u001b[1;32m---> 16\u001b[0m pred \u001b[38;5;241m=\u001b[39m \u001b[43mmodel\u001b[49m\u001b[38;5;241;43m.\u001b[39;49m\u001b[43mpredict\u001b[49m\u001b[43m(\u001b[49m\u001b[43mkeypoints\u001b[49m\u001b[43m)\u001b[49m\n\u001b[0;32m     17\u001b[0m y_pred \u001b[38;5;241m=\u001b[39m pred\u001b[38;5;241m.\u001b[39margmax(axis\u001b[38;5;241m=\u001b[39m\u001b[38;5;241m-\u001b[39m\u001b[38;5;241m1\u001b[39m)\n\u001b[0;32m     19\u001b[0m \u001b[38;5;28mprint\u001b[39m(y_pred)\n",
      "File \u001b[1;32mc:\\users\\nguye\\pycharmprojects\\dpl302\\venv\\lib\\site-packages\\keras\\utils\\traceback_utils.py:70\u001b[0m, in \u001b[0;36mfilter_traceback.<locals>.error_handler\u001b[1;34m(*args, **kwargs)\u001b[0m\n\u001b[0;32m     67\u001b[0m     filtered_tb \u001b[38;5;241m=\u001b[39m _process_traceback_frames(e\u001b[38;5;241m.\u001b[39m__traceback__)\n\u001b[0;32m     68\u001b[0m     \u001b[38;5;66;03m# To get the full stack trace, call:\u001b[39;00m\n\u001b[0;32m     69\u001b[0m     \u001b[38;5;66;03m# `tf.debugging.disable_traceback_filtering()`\u001b[39;00m\n\u001b[1;32m---> 70\u001b[0m     \u001b[38;5;28;01mraise\u001b[39;00m e\u001b[38;5;241m.\u001b[39mwith_traceback(filtered_tb) \u001b[38;5;28;01mfrom\u001b[39;00m \u001b[38;5;28;01mNone\u001b[39;00m\n\u001b[0;32m     71\u001b[0m \u001b[38;5;28;01mfinally\u001b[39;00m:\n\u001b[0;32m     72\u001b[0m     \u001b[38;5;28;01mdel\u001b[39;00m filtered_tb\n",
      "File \u001b[1;32mc:\\users\\nguye\\pycharmprojects\\dpl302\\venv\\lib\\site-packages\\tensorflow\\python\\eager\\execute.py:52\u001b[0m, in \u001b[0;36mquick_execute\u001b[1;34m(op_name, num_outputs, inputs, attrs, ctx, name)\u001b[0m\n\u001b[0;32m     50\u001b[0m \u001b[38;5;28;01mtry\u001b[39;00m:\n\u001b[0;32m     51\u001b[0m   ctx\u001b[38;5;241m.\u001b[39mensure_initialized()\n\u001b[1;32m---> 52\u001b[0m   tensors \u001b[38;5;241m=\u001b[39m pywrap_tfe\u001b[38;5;241m.\u001b[39mTFE_Py_Execute(ctx\u001b[38;5;241m.\u001b[39m_handle, device_name, op_name,\n\u001b[0;32m     53\u001b[0m                                       inputs, attrs, num_outputs)\n\u001b[0;32m     54\u001b[0m \u001b[38;5;28;01mexcept\u001b[39;00m core\u001b[38;5;241m.\u001b[39m_NotOkStatusException \u001b[38;5;28;01mas\u001b[39;00m e:\n\u001b[0;32m     55\u001b[0m   \u001b[38;5;28;01mif\u001b[39;00m name \u001b[38;5;129;01mis\u001b[39;00m \u001b[38;5;129;01mnot\u001b[39;00m \u001b[38;5;28;01mNone\u001b[39;00m:\n",
      "\u001b[1;31mInvalidArgumentError\u001b[0m: Graph execution error:\n\nDetected at node 'sequential/conv1d/Conv1D/ExpandDims' defined at (most recent call last):\n    File \"C:\\Users\\nguye\\AppData\\Local\\Programs\\Python\\Python39\\lib\\runpy.py\", line 197, in _run_module_as_main\n      return _run_code(code, main_globals, None,\n    File \"C:\\Users\\nguye\\AppData\\Local\\Programs\\Python\\Python39\\lib\\runpy.py\", line 87, in _run_code\n      exec(code, run_globals)\n    File \"c:\\users\\nguye\\pycharmprojects\\dpl302\\venv\\lib\\site-packages\\ipykernel_launcher.py\", line 17, in <module>\n      app.launch_new_instance()\n    File \"c:\\users\\nguye\\pycharmprojects\\dpl302\\venv\\lib\\site-packages\\traitlets\\config\\application.py\", line 1043, in launch_instance\n      app.start()\n    File \"c:\\users\\nguye\\pycharmprojects\\dpl302\\venv\\lib\\site-packages\\ipykernel\\kernelapp.py\", line 725, in start\n      self.io_loop.start()\n    File \"c:\\users\\nguye\\pycharmprojects\\dpl302\\venv\\lib\\site-packages\\tornado\\platform\\asyncio.py\", line 195, in start\n      self.asyncio_loop.run_forever()\n    File \"C:\\Users\\nguye\\AppData\\Local\\Programs\\Python\\Python39\\lib\\asyncio\\base_events.py\", line 596, in run_forever\n      self._run_once()\n    File \"C:\\Users\\nguye\\AppData\\Local\\Programs\\Python\\Python39\\lib\\asyncio\\base_events.py\", line 1890, in _run_once\n      handle._run()\n    File \"C:\\Users\\nguye\\AppData\\Local\\Programs\\Python\\Python39\\lib\\asyncio\\events.py\", line 80, in _run\n      self._context.run(self._callback, *self._args)\n    File \"c:\\users\\nguye\\pycharmprojects\\dpl302\\venv\\lib\\site-packages\\ipykernel\\kernelbase.py\", line 513, in dispatch_queue\n      await self.process_one()\n    File \"c:\\users\\nguye\\pycharmprojects\\dpl302\\venv\\lib\\site-packages\\ipykernel\\kernelbase.py\", line 502, in process_one\n      await dispatch(*args)\n    File \"c:\\users\\nguye\\pycharmprojects\\dpl302\\venv\\lib\\site-packages\\ipykernel\\kernelbase.py\", line 409, in dispatch_shell\n      await result\n    File \"c:\\users\\nguye\\pycharmprojects\\dpl302\\venv\\lib\\site-packages\\ipykernel\\kernelbase.py\", line 729, in execute_request\n      reply_content = await reply_content\n    File \"c:\\users\\nguye\\pycharmprojects\\dpl302\\venv\\lib\\site-packages\\ipykernel\\ipkernel.py\", line 422, in do_execute\n      res = shell.run_cell(\n    File \"c:\\users\\nguye\\pycharmprojects\\dpl302\\venv\\lib\\site-packages\\ipykernel\\zmqshell.py\", line 540, in run_cell\n      return super().run_cell(*args, **kwargs)\n    File \"c:\\users\\nguye\\pycharmprojects\\dpl302\\venv\\lib\\site-packages\\IPython\\core\\interactiveshell.py\", line 3009, in run_cell\n      result = self._run_cell(\n    File \"c:\\users\\nguye\\pycharmprojects\\dpl302\\venv\\lib\\site-packages\\IPython\\core\\interactiveshell.py\", line 3064, in _run_cell\n      result = runner(coro)\n    File \"c:\\users\\nguye\\pycharmprojects\\dpl302\\venv\\lib\\site-packages\\IPython\\core\\async_helpers.py\", line 129, in _pseudo_sync_runner\n      coro.send(None)\n    File \"c:\\users\\nguye\\pycharmprojects\\dpl302\\venv\\lib\\site-packages\\IPython\\core\\interactiveshell.py\", line 3269, in run_cell_async\n      has_raised = await self.run_ast_nodes(code_ast.body, cell_name,\n    File \"c:\\users\\nguye\\pycharmprojects\\dpl302\\venv\\lib\\site-packages\\IPython\\core\\interactiveshell.py\", line 3448, in run_ast_nodes\n      if await self.run_code(code, result, async_=asy):\n    File \"c:\\users\\nguye\\pycharmprojects\\dpl302\\venv\\lib\\site-packages\\IPython\\core\\interactiveshell.py\", line 3508, in run_code\n      exec(code_obj, self.user_global_ns, self.user_ns)\n    File \"C:\\Users\\nguye\\AppData\\Local\\Temp\\ipykernel_7908\\1921889725.py\", line 16, in <module>\n      pred = model.predict(keypoints)\n    File \"c:\\users\\nguye\\pycharmprojects\\dpl302\\venv\\lib\\site-packages\\keras\\utils\\traceback_utils.py\", line 65, in error_handler\n      return fn(*args, **kwargs)\n    File \"c:\\users\\nguye\\pycharmprojects\\dpl302\\venv\\lib\\site-packages\\keras\\engine\\training.py\", line 2382, in predict\n      tmp_batch_outputs = self.predict_function(iterator)\n    File \"c:\\users\\nguye\\pycharmprojects\\dpl302\\venv\\lib\\site-packages\\keras\\engine\\training.py\", line 2169, in predict_function\n      return step_function(self, iterator)\n    File \"c:\\users\\nguye\\pycharmprojects\\dpl302\\venv\\lib\\site-packages\\keras\\engine\\training.py\", line 2155, in step_function\n      outputs = model.distribute_strategy.run(run_step, args=(data,))\n    File \"c:\\users\\nguye\\pycharmprojects\\dpl302\\venv\\lib\\site-packages\\keras\\engine\\training.py\", line 2143, in run_step\n      outputs = model.predict_step(data)\n    File \"c:\\users\\nguye\\pycharmprojects\\dpl302\\venv\\lib\\site-packages\\keras\\engine\\training.py\", line 2111, in predict_step\n      return self(x, training=False)\n    File \"c:\\users\\nguye\\pycharmprojects\\dpl302\\venv\\lib\\site-packages\\keras\\utils\\traceback_utils.py\", line 65, in error_handler\n      return fn(*args, **kwargs)\n    File \"c:\\users\\nguye\\pycharmprojects\\dpl302\\venv\\lib\\site-packages\\keras\\engine\\training.py\", line 558, in __call__\n      return super().__call__(*args, **kwargs)\n    File \"c:\\users\\nguye\\pycharmprojects\\dpl302\\venv\\lib\\site-packages\\keras\\utils\\traceback_utils.py\", line 65, in error_handler\n      return fn(*args, **kwargs)\n    File \"c:\\users\\nguye\\pycharmprojects\\dpl302\\venv\\lib\\site-packages\\keras\\engine\\base_layer.py\", line 1145, in __call__\n      outputs = call_fn(inputs, *args, **kwargs)\n    File \"c:\\users\\nguye\\pycharmprojects\\dpl302\\venv\\lib\\site-packages\\keras\\utils\\traceback_utils.py\", line 96, in error_handler\n      return fn(*args, **kwargs)\n    File \"c:\\users\\nguye\\pycharmprojects\\dpl302\\venv\\lib\\site-packages\\keras\\engine\\sequential.py\", line 412, in call\n      return super().call(inputs, training=training, mask=mask)\n    File \"c:\\users\\nguye\\pycharmprojects\\dpl302\\venv\\lib\\site-packages\\keras\\engine\\functional.py\", line 512, in call\n      return self._run_internal_graph(inputs, training=training, mask=mask)\n    File \"c:\\users\\nguye\\pycharmprojects\\dpl302\\venv\\lib\\site-packages\\keras\\engine\\functional.py\", line 669, in _run_internal_graph\n      outputs = node.layer(*args, **kwargs)\n    File \"c:\\users\\nguye\\pycharmprojects\\dpl302\\venv\\lib\\site-packages\\keras\\utils\\traceback_utils.py\", line 65, in error_handler\n      return fn(*args, **kwargs)\n    File \"c:\\users\\nguye\\pycharmprojects\\dpl302\\venv\\lib\\site-packages\\keras\\engine\\base_layer.py\", line 1145, in __call__\n      outputs = call_fn(inputs, *args, **kwargs)\n    File \"c:\\users\\nguye\\pycharmprojects\\dpl302\\venv\\lib\\site-packages\\keras\\utils\\traceback_utils.py\", line 96, in error_handler\n      return fn(*args, **kwargs)\n    File \"c:\\users\\nguye\\pycharmprojects\\dpl302\\venv\\lib\\site-packages\\keras\\layers\\convolutional\\base_conv.py\", line 290, in call\n      outputs = self.convolution_op(inputs, self.kernel)\n    File \"c:\\users\\nguye\\pycharmprojects\\dpl302\\venv\\lib\\site-packages\\keras\\layers\\convolutional\\base_conv.py\", line 262, in convolution_op\n      return tf.nn.convolution(\nNode: 'sequential/conv1d/Conv1D/ExpandDims'\nTried to expand dim index -3 for tensor with 1 dimensions.\n\t [[{{node sequential/conv1d/Conv1D/ExpandDims}}]] [Op:__inference_predict_function_74215]"
     ]
    }
   ],
   "source": [
    "image = 'C:\\\\Users\\\\nguye\\\\PycharmProjects\\\\DPL302\\\\Pose recognition\\\\dataset\\\\Yoga\\\\dandasana\\\\28-0.png'\n",
    "with mp_pose.Pose(static_image_mode = True, min_detection_confidence=0.5) as pose:\n",
    "    while True:\n",
    "        frame = cv.imread(image)\n",
    "\n",
    "        frame.flags.writeable = False\n",
    "        frame = cv.cvtColor(frame, cv.COLOR_BGR2RGB)\n",
    "        results = pose.process(frame)\n",
    "        frame.flags.writeable = True\n",
    "        frame = cv.cvtColor(frame, cv.COLOR_RGB2BGR)\n",
    "\n",
    "        keypoints = np.array([[result.x, result.y, result.z, result.visibility] for result in results.pose_landmarks.landmark]).flatten() if results.pose_landmarks else np.zeros(33*4)\n",
    "        \n",
    "        mp_drawing.draw_landmarks(frame, results.pose_landmarks, mp_pose.POSE_CONNECTIONS)\n",
    "        \n",
    "        pred = model.predict(keypoints)\n",
    "        y_pred = pred.argmax(axis=-1)\n",
    "        \n",
    "        print(y_pred)\n",
    "        \n",
    "        cv.imshow('kp',frame)\n",
    "        \n",
    "        if cv.waitKey(5) & 0xFF == ord('q'):\n",
    "            break\n",
    "\n",
    "cv.destroyAllWindows()\n",
    "\n"
   ]
  },
  {
   "cell_type": "code",
   "execution_count": null,
   "id": "5e7bba06",
   "metadata": {},
   "outputs": [],
   "source": [
    "img_no = 0\n",
    "with mp_pose.Pose(static_image_mode = True, min_detection_confidence=0.5) as pose:\n",
    "    for pose_actions in poses:\n",
    "        current_pose = pose_actions\n",
    "        pose_path = os.path.join(main_dir,'dataset', label, pose_actions)\n",
    "        pose_actions = np.array(os.listdir(pose_path))\n",
    "        img_no = 0\n",
    "        for img in pose_actions:\n",
    "            img_path = os.path.join(main_dir,'dataset', label, current_pose, img)\n",
    "            frame = cv.imread(img_path)\n",
    "            \n",
    "            try:\n",
    "                frame.flags.writeable = False\n",
    "                frame = cv.cvtColor(frame, cv.COLOR_BGR2RGB)\n",
    "                results = pose.process(frame)\n",
    "                frame.flags.writeable = True\n",
    "                frame = cv.cvtColor(frame, cv.COLOR_RGB2BGR)\n",
    "            except:\n",
    "                print('Error while extracting ', img, 'of', current_pose)\n",
    "                img_no += 1\n",
    "                pass\n",
    "            \n",
    "            keypoints = np.array([[result.x, result.y, result.z, result.visibility] for result in results.pose_landmarks.landmark]).flatten() if results.pose_landmarks else np.zeros(33*4)\n",
    "            \n",
    "            kp_path = os.path.join(main_dir, 'keypoints', current_pose, str(img_no))\n",
    "            np.save(kp_path, keypoints)\n",
    "            img_no += 1\n",
    "                \n",
    "            cv.imshow('Reading', frame)\n",
    "            cv.waitKey(100)\n",
    "\n",
    "\n",
    "cv.destroyAllWindows()"
   ]
  }
 ],
 "metadata": {
  "kernelspec": {
   "display_name": "Python 3 (ipykernel)",
   "language": "python",
   "name": "python3"
  },
  "language_info": {
   "codemirror_mode": {
    "name": "ipython",
    "version": 3
   },
   "file_extension": ".py",
   "mimetype": "text/x-python",
   "name": "python",
   "nbconvert_exporter": "python",
   "pygments_lexer": "ipython3",
   "version": "3.9.7"
  }
 },
 "nbformat": 4,
 "nbformat_minor": 5
}
